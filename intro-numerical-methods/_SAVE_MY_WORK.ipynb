{
 "cells": [
  {
   "cell_type": "markdown",
   "metadata": {},
   "source": [
    "# Save your work!\n",
    "\n",
    "Sad news...After all that work, your jupyter-hub server will be going away, sucked back into the cloud from which it came ;^(\n",
    "\n",
    "But fear not, you can preserve all your hard work and notebooks and just move them to your own machine (where they should all run perfectly well in a recent installation of [Anaconda 3](https://www.anaconda.com/products/individual)\n",
    "\n",
    "Just execute the two cells below and this should create a file named jupyterfiles.tar.gz (it may take a bit of time so wait for the success! prompt)\n",
    "\n",
    "Right click on jupyterfiles.tar.gz in the File Browser and select Download\n",
    "\n",
    "Let me know if you have any questions or issues\n",
    "\n",
    "Best of luck\n"
   ]
  },
  {
   "cell_type": "code",
   "execution_count": null,
   "metadata": {},
   "outputs": [],
   "source": [
    "import shutil\n",
    "import os"
   ]
  },
  {
   "cell_type": "code",
   "execution_count": null,
   "metadata": {},
   "outputs": [],
   "source": [
    "shutil.make_archive(\"jupyterfiles\", 'gztar', os.environ[\"HOME\"])\n",
    "print('Success!:  You should be able to download your files now')"
   ]
  }
 ],
 "metadata": {
  "kernelspec": {
   "display_name": "Python 3",
   "language": "python",
   "name": "python3"
  },
  "language_info": {
   "codemirror_mode": {
    "name": "ipython",
    "version": 3
   },
   "file_extension": ".py",
   "mimetype": "text/x-python",
   "name": "python",
   "nbconvert_exporter": "python",
   "pygments_lexer": "ipython3",
   "version": "3.7.5"
  }
 },
 "nbformat": 4,
 "nbformat_minor": 4
}
