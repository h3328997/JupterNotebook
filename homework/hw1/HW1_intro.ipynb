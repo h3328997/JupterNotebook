{
 "cells": [
  {
   "cell_type": "markdown",
   "metadata": {},
   "source": [
    "Before you turn this problem in, make sure everything runs as expected. First, **restart the kernel** (in the menubar, select Kernel$\\rightarrow$Restart) and then **run all cells** (in the menubar, select Cell$\\rightarrow$Run All).\n",
    "\n",
    "Make sure you fill in any place that says `YOUR CODE HERE` or \"YOUR ANSWER HERE\", as well as your name and collaborators below:"
   ]
  },
  {
   "cell_type": "code",
   "execution_count": 1,
   "metadata": {},
   "outputs": [],
   "source": [
    "NAME = \"Yifei Fan\"\n",
    "COLLABORATORS = \"\""
   ]
  },
  {
   "cell_type": "markdown",
   "metadata": {},
   "source": [
    "---"
   ]
  },
  {
   "cell_type": "code",
   "execution_count": 2,
   "metadata": {},
   "outputs": [],
   "source": [
    "from __future__ import print_function\n",
    "%matplotlib inline\n",
    "%precision 16\n",
    "import numpy\n",
    "import matplotlib.pyplot as plt"
   ]
  },
  {
   "cell_type": "markdown",
   "metadata": {
    "deletable": false,
    "editable": false,
    "nbgrader": {
     "cell_type": "markdown",
     "checksum": "5da3d6ae4a6d37e87ea88a8408508475",
     "grade": false,
     "grade_id": "cell8438889984008151",
     "locked": true,
     "schema_version": 3,
     "solution": false
    }
   },
   "source": [
    "# Homework 1:  Introduction"
   ]
  },
  {
   "cell_type": "markdown",
   "metadata": {
    "deletable": false,
    "editable": false,
    "nbgrader": {
     "cell_type": "markdown",
     "checksum": "c667879bcea53a67911245e81e8ecc09",
     "grade": false,
     "grade_id": "cell6823144658916374",
     "locked": true,
     "schema_version": 3,
     "solution": false
    }
   },
   "source": [
    "## Question 1 - Basic Linear Algebra\n",
    "\n",
    "Write out the solution (by-hand) to the following sets of equations.  **FULLY** justify your solution (do not just write the answer).\n",
    "\n",
    "If you want to review some of these concepts check out Strang's [Linear Algebra](https://clio.columbia.edu/catalog/10612929) text or for only the fundamentals check out Strang's [The Fundamental Theorem of Linear Algebra](http://www.jstor.org/stable/2324660?seq=1#page_scan_tab_contents)"
   ]
  },
  {
   "cell_type": "markdown",
   "metadata": {
    "deletable": false,
    "editable": false,
    "nbgrader": {
     "cell_type": "markdown",
     "checksum": "2ae27fff6a03b7de5ff2e2dc3b70cedc",
     "grade": false,
     "grade_id": "cell2016497183447183",
     "locked": true,
     "schema_version": 3,
     "solution": false
    }
   },
   "source": [
    "**(a)** (5) Solve $A x = \\mathbf{b}$ where\n",
    "$$\n",
    "    A = \\begin{bmatrix}\n",
    "        2 & 1 \\\\\n",
    "        1 & 3\n",
    "    \\end{bmatrix} ~~~~ \n",
    "    \\mathbf{b} = \\begin{bmatrix}\n",
    "        1 \\\\\n",
    "        -2\n",
    "    \\end{bmatrix}\n",
    "$$"
   ]
  },
  {
   "cell_type": "markdown",
   "metadata": {
    "deletable": false,
    "nbgrader": {
     "cell_type": "markdown",
     "checksum": "f74ae27d7e7de90898de4a3c30ba2e83",
     "grade": true,
     "grade_id": "cell1448053803160613",
     "locked": false,
     "points": 5,
     "schema_version": 3,
     "solution": true
    }
   },
   "source": [
    "Solution: \n",
    "$$\n",
    "    \\begin{bmatrix} \n",
    "        2 & 1 \\\\\n",
    "        1 & 3\n",
    "    \\end{bmatrix}\n",
    "    \\begin{bmatrix} \n",
    "        x_{1} \\\\ \n",
    "        x_{2}\n",
    "    \\end{bmatrix} \n",
    "    = \\begin{bmatrix} \n",
    "        1 \\\\ \n",
    "        -2\n",
    "    \\end{bmatrix} \n",
    "$$\n",
    "is equivalent to the system\n",
    "$$\n",
    "    \\begin{cases} 2x_{1} + x_{2} = 1 \\\\ x_{1} + 3x_{2}= -2  \\end{cases}\n",
    "$$\n",
    "by solving this system I got $ x_{1}=1 $ and $ x_{2}=-1$.\n",
    "\n",
    "That is $x=\\begin{bmatrix} \n",
    "        1 \\\\\n",
    "        -1\n",
    "    \\end{bmatrix}$"
   ]
  },
  {
   "cell_type": "markdown",
   "metadata": {
    "deletable": false,
    "editable": false,
    "nbgrader": {
     "cell_type": "markdown",
     "checksum": "04c1d84d159c07e51b85b05584426d9d",
     "grade": false,
     "grade_id": "cell5967828987159757",
     "locked": true,
     "schema_version": 3,
     "solution": false
    }
   },
   "source": [
    "**(b)** (5) Solve the system of equations:\n",
    "\\begin{align}\n",
    "    2x + 3y &= 1 \\\\\n",
    "    6x + 9y &= 3\n",
    "\\end{align}"
   ]
  },
  {
   "cell_type": "markdown",
   "metadata": {
    "deletable": false,
    "nbgrader": {
     "cell_type": "markdown",
     "checksum": "92141e837c28779faa0eacf9efc4bbdc",
     "grade": true,
     "grade_id": "cell9290127908697658",
     "locked": false,
     "points": 5,
     "schema_version": 3,
     "solution": true
    }
   },
   "source": [
    "Solution: \n",
    "\n",
    "3 times the equation 1 is the same as the equation 2, which means they are linearly dependent. The solution will be any x and y that satisfy 2x+3y=1"
   ]
  },
  {
   "cell_type": "markdown",
   "metadata": {
    "deletable": false,
    "editable": false,
    "nbgrader": {
     "cell_type": "markdown",
     "checksum": "ee19d98d1a1ab52817c1ce46315b8672",
     "grade": false,
     "grade_id": "cell5933027027760471",
     "locked": true,
     "schema_version": 3,
     "solution": false
    }
   },
   "source": [
    "**(c)** (5) Why will I not be able to solve $A\\mathbf{x}=\\mathbf{b}$ for\n",
    "\n",
    "$$\n",
    "    A = \\begin{bmatrix}\n",
    "        2 & 1 \\\\\n",
    "        1 & 3 \\\\\n",
    "        0 & 4\n",
    "    \\end{bmatrix} ~~~~ \n",
    "    \\mathbf{b} = \\begin{bmatrix}\n",
    "        2 \\\\\n",
    "        0 \\\\\n",
    "        1\n",
    "    \\end{bmatrix}?\n",
    "$$\n",
    "\n",
    "Explain why this is a problem in terms of the four fundamental subspace of the matrix  $A$ and how that relates to the vector $\\mathbf{b}$."
   ]
  },
  {
   "cell_type": "markdown",
   "metadata": {
    "deletable": false,
    "nbgrader": {
     "cell_type": "markdown",
     "checksum": "a96870b6270e88853f17d3ff502d8cbf",
     "grade": true,
     "grade_id": "cell2638454345631698",
     "locked": false,
     "points": 5,
     "schema_version": 3,
     "solution": true
    }
   },
   "source": [
    "Answer: \n",
    "    Since rank(A)=2 and m=3, rank(A)<m, and b is not a linear combination of columns of A. "
   ]
  },
  {
   "cell_type": "markdown",
   "metadata": {
    "deletable": false,
    "editable": false,
    "nbgrader": {
     "cell_type": "markdown",
     "checksum": "17ff1e94ffc3803fe3856995b1b80c71",
     "grade": false,
     "grade_id": "cell4384914739699754",
     "locked": true,
     "schema_version": 3,
     "solution": false
    }
   },
   "source": [
    "## Question 2 -- a simple python function"
   ]
  },
  {
   "cell_type": "markdown",
   "metadata": {
    "deletable": false,
    "editable": false,
    "nbgrader": {
     "cell_type": "markdown",
     "checksum": "2de59fe0fd0922246918db4c152f21ba",
     "grade": false,
     "grade_id": "cell1244223495354736",
     "locked": true,
     "schema_version": 3,
     "solution": false
    }
   },
   "source": [
    "**(a)** (10) Write a function that computes\n",
    "$$\n",
    "    \\sum^\\infty_{n=1} \\frac{a^n}{b^{n-1}}\n",
    "$$\n",
    "until the difference between subsequent partial sums is less than the given tolerance $T$.  Return the computed sum.  Make sure to include a way for the function to exit if the partial sums do not satisfy the above criteria (the sum may not be convergent for instance). Remember to raise an exception if the sum does not converge.\n",
    "\n",
    "Also, please,  remove the `# YOUR CODE HERE` and `raise NotImplementedError` lines in your final code. (Hopefully you did implement it and the exception is not needed)."
   ]
  },
  {
   "cell_type": "code",
   "execution_count": 3,
   "metadata": {
    "deletable": false,
    "nbgrader": {
     "cell_type": "code",
     "checksum": "20ae2dcfdc7388f9ee886485609f51fb",
     "grade": false,
     "grade_id": "cell3621925556728684",
     "locked": false,
     "schema_version": 3,
     "solution": true
    }
   },
   "outputs": [],
   "source": [
    "def compute_sum(a, b, tolerance=1e-5):\n",
    "    \"\"\"Compute the sum $\\sum^\\infty_{n=1} a^n / b^{n-1} until the partial sums are less than *tolerance*.\n",
    "    \n",
    "    Returns the computed sum and raises a *ValueError* if the sum appears to be diverging.\n",
    "    \"\"\"\n",
    "    computed_sum=0\n",
    "    if abs(a/b) >= 1:\n",
    "        raise ValueError()\n",
    "    ps=a\n",
    "    while abs(ps) > tolerance:\n",
    "        computed_sum=computed_sum+ps\n",
    "        ps=ps*a/b\n",
    "    return computed_sum"
   ]
  },
  {
   "cell_type": "code",
   "execution_count": 4,
   "metadata": {
    "deletable": false,
    "editable": false,
    "nbgrader": {
     "cell_type": "code",
     "checksum": "9cdfbbb5ffc21daf532fe139133be6af",
     "grade": true,
     "grade_id": "cell5655123106444739",
     "locked": true,
     "points": 10,
     "schema_version": 3,
     "solution": false
    }
   },
   "outputs": [],
   "source": [
    "numpy.testing.assert_allclose(compute_sum(-2.0, 3.0, 1e-16), -1.2)\n",
    "numpy.testing.assert_allclose(compute_sum(1.0, 2.0, 1e-16), 2.0)\n",
    "try:\n",
    "    compute_sum(2.0, 1.0, 1e-16)\n",
    "except ValueError:\n",
    "    pass\n",
    "else:\n",
    "    assert False"
   ]
  },
  {
   "cell_type": "markdown",
   "metadata": {
    "deletable": false,
    "editable": false,
    "nbgrader": {
     "cell_type": "markdown",
     "checksum": "c5e9d9ec8736a130ec1ba46c24660ee9",
     "grade": false,
     "grade_id": "cell6074787325159711",
     "locked": true,
     "schema_version": 3,
     "solution": false
    }
   },
   "source": [
    "**(b)** (5) Explore different tolerances for your function above for $a=-2$ and $b=3$.  Plot the value of the absolute error\n",
    "$$\n",
    "    e = \\left| ~ \\sum^\\infty_{n=1} \\frac{a^n}{b^{n-1}} - (-1.2) ~\\right |\n",
    "$$\n",
    "as a function of the tolerance.  The plotting command `loglog` may be useful to effectively visualize the problem.  What do you observe?\n",
    "\n",
    "Hint:  Try using tolerances in the range $T \\in [10^{-30}, 10^{-2}]$.  Use the functions `logspace` to generate well spaced points and `loglog` to plot the data."
   ]
  },
  {
   "cell_type": "code",
   "execution_count": 5,
   "metadata": {
    "deletable": false,
    "nbgrader": {
     "cell_type": "code",
     "checksum": "7bf34706375e686c04187e6c7ca7b8e3",
     "grade": true,
     "grade_id": "cell5235988218415515",
     "locked": false,
     "points": 4,
     "schema_version": 3,
     "solution": true
    }
   },
   "outputs": [
    {
     "data": {
      "text/plain": [
       "[<matplotlib.lines.Line2D at 0x7f5208539d30>]"
      ]
     },
     "execution_count": 5,
     "metadata": {},
     "output_type": "execute_result"
    },
    {
     "data": {
      "image/png": "[encoded data removed]",
      "text/plain": [
       "<Figure size 432x288 with 1 Axes>"
      ]
     },
     "metadata": {
      "needs_background": "light"
     },
     "output_type": "display_data"
    }
   ],
   "source": [
    "tolerance=numpy.logspace(10^(-30),10^(-2))\n",
    "absolute_error=[abs(compute_sum(-2,3,k)+1.2) for k in tolerance]\n",
    "plt.loglog(tolerance,absolute_error)"
   ]
  },
  {
   "cell_type": "markdown",
   "metadata": {
    "deletable": false,
    "nbgrader": {
     "cell_type": "markdown",
     "checksum": "20cd990f272495dc908b1210c6e7e0c0",
     "grade": true,
     "grade_id": "cell9513987934167870",
     "locked": false,
     "points": 1,
     "schema_version": 3,
     "solution": true
    }
   },
   "source": [
    "The absolute error does not decrease much as the tolerance goes below $10^{-16}$"
   ]
  },
  {
   "cell_type": "markdown",
   "metadata": {
    "deletable": false,
    "editable": false,
    "nbgrader": {
     "cell_type": "markdown",
     "checksum": "3e85921a321fc81df2ab4b835e92f357",
     "grade": false,
     "grade_id": "cell4028669518644633",
     "locked": true,
     "schema_version": 3,
     "solution": false
    }
   },
   "source": [
    "## Question 3 - Taylor Series"
   ]
  },
  {
   "cell_type": "markdown",
   "metadata": {
    "deletable": false,
    "editable": false,
    "nbgrader": {
     "cell_type": "markdown",
     "checksum": "f5a8c5f6625d3b78563c9304bc8a2814",
     "grade": false,
     "grade_id": "cell8219538542602342",
     "locked": true,
     "schema_version": 3,
     "solution": false
    }
   },
   "source": [
    "(7) Compute the first 3 terms of the Taylor series of the function\n",
    "$$\n",
    "    f(x) = e^{-x^2} \\sin( x - \\pi)\n",
    "$$\n",
    "centered at $x_0 = \\pi$. Hint: check using `Sympy`"
   ]
  },
  {
   "cell_type": "markdown",
   "metadata": {
    "deletable": false,
    "nbgrader": {
     "cell_type": "markdown",
     "checksum": "584c9440793a332c83dbe65cd02c80d7",
     "grade": true,
     "grade_id": "cell5045118735142062",
     "locked": false,
     "points": 7,
     "schema_version": 3,
     "solution": true
    }
   },
   "source": [
    "First 3 terms of $f(x)=f(\\pi)+f'(\\pi)(x-\\pi)+\\frac{f''(\\pi)}{2}(x-\\pi)^2=e^{-\\pi^2}sin(0)+-e^{-\\pi^2} (cos(\\pi) - 2 \\pi sin(\\pi))(\\pi-\\pi)+e^{-\\pi^2} (4 \\pi cos(\\pi) + (3 - 4 \\pi^2) sin(\\pi))(\\pi-\\pi)^2/2=0+0+0$"
   ]
  },
  {
   "cell_type": "markdown",
   "metadata": {
    "deletable": false,
    "editable": false,
    "nbgrader": {
     "cell_type": "markdown",
     "checksum": "22723c187775d8904032761e1d3a8c0f",
     "grade": false,
     "grade_id": "cell4028669518647563",
     "locked": true,
     "schema_version": 3,
     "solution": false
    }
   },
   "source": [
    "## Question 4 - Basic ODE's"
   ]
  },
  {
   "cell_type": "markdown",
   "metadata": {
    "deletable": false,
    "editable": false,
    "nbgrader": {
     "cell_type": "markdown",
     "checksum": "9781daf09b159a25a2a01a1de506ea55",
     "grade": false,
     "grade_id": "cell7388927421453205",
     "locked": true,
     "schema_version": 3,
     "solution": false
    }
   },
   "source": [
    "(8) Solve the constant coefficient ODE (analytically)\n",
    "$$\n",
    "    u'' + u' + \\frac{5}{4} u = 0\n",
    "$$\n",
    "with initial conditions $u(0) = 3$ and $u'(0) = 1$.  Comment on its behavior as $t \\rightarrow \\infty$."
   ]
  },
  {
   "cell_type": "markdown",
   "metadata": {
    "deletable": false,
    "nbgrader": {
     "cell_type": "markdown",
     "checksum": "67ee6d23eaf50a4d0631f602af13612d",
     "grade": true,
     "grade_id": "cell8510568627368116",
     "locked": false,
     "points": 6,
     "schema_version": 3,
     "solution": true
    }
   },
   "source": [
    "$e^{rt''}+e^{rt'}+\\frac{5}{4}e^{rt}=0$\n",
    "\n",
    "$r=-\\frac{1}{2}\\pm i$\n",
    "\n",
    "$u(t)=e^{-(1/2)t}(c_1cos(t)+c_2sin(t))$\n",
    "\n",
    "$u(0)=c_1=3$\n",
    "\n",
    "$u^{'}(0)=-(3/2)+c_2=1$\n",
    "\n",
    "$c_2=5/2$\n",
    "\n",
    "$u(t)=e^{-(1/2)t}(3cos(t)+(5/2)sin(t))$\n",
    "\n",
    "As $t \\rightarrow \\infty$,  $u(t)\\rightarrow 0$"
   ]
  },
  {
   "cell_type": "markdown",
   "metadata": {
    "deletable": false,
    "editable": false,
    "nbgrader": {
     "cell_type": "markdown",
     "checksum": "e663752a161361fc627e39b35f0a2bd5",
     "grade": false,
     "grade_id": "cell-1b99ca0e971047fb",
     "locked": true,
     "schema_version": 3,
     "solution": false,
     "task": false
    }
   },
   "source": [
    "Plot the solution $u(t)$"
   ]
  },
  {
   "cell_type": "code",
   "execution_count": 6,
   "metadata": {
    "deletable": false,
    "nbgrader": {
     "cell_type": "code",
     "checksum": "c902aa23f1da8b332819e93ae85008a7",
     "grade": true,
     "grade_id": "cell9191289374012808",
     "locked": false,
     "points": 2,
     "schema_version": 3,
     "solution": true
    }
   },
   "outputs": [
    {
     "data": {
      "text/plain": [
       "[<matplotlib.lines.Line2D at 0x7f520832c640>]"
      ]
     },
     "execution_count": 6,
     "metadata": {},
     "output_type": "execute_result"
    },
    {
     "data": {
      "image/png": "[encoded data removed]",
      "text/plain": [
       "<Figure size 432x288 with 1 Axes>"
      ]
     },
     "metadata": {
      "needs_background": "light"
     },
     "output_type": "display_data"
    }
   ],
   "source": [
    "x = numpy.linspace(0,100,1000)\n",
    "y=[numpy.exp(-0.5*k)*(3*numpy.cos(k)+2.5*numpy.sin(k)) for k in x]\n",
    "plt.plot(x,y)"
   ]
  },
  {
   "cell_type": "markdown",
   "metadata": {
    "deletable": false,
    "editable": false,
    "nbgrader": {
     "cell_type": "markdown",
     "checksum": "521ec6f40b3c9e3f90dddf9b3a6d0299",
     "grade": false,
     "grade_id": "cell3807292108265957",
     "locked": true,
     "schema_version": 3,
     "solution": false
    }
   },
   "source": [
    "## Question 5 - using matplotlib\n",
    "\n",
    "(5) Plot something \"fun\" making sure to label the axes and colorbar if appropriate.  Use the [matplotlib gallery](http://matplotlib.org/gallery.html) for inspiration."
   ]
  },
  {
   "cell_type": "code",
   "execution_count": 7,
   "metadata": {
    "deletable": false,
    "nbgrader": {
     "cell_type": "code",
     "checksum": "704de1896d27c6af92c761d1ece041e8",
     "grade": true,
     "grade_id": "cell2439477339694822",
     "locked": false,
     "points": 5,
     "schema_version": 3,
     "solution": true
    }
   },
   "outputs": [
    {
     "data": {
      "image/png": "[encoded data removed]",
      "text/plain": [
       "<Figure size 432x288 with 1 Axes>"
      ]
     },
     "metadata": {},
     "output_type": "display_data"
    }
   ],
   "source": [
    "labels = 'Sleep', 'Study', 'Eat', 'Sport'\n",
    "sizes = [33, 33, 33, 1]\n",
    "explode = (0, 0, 0, 0.1) \n",
    "\n",
    "fig, ax = plt.subplots()\n",
    "ax.pie(sizes, explode=explode, labels=labels, autopct='%1.1f%%',\n",
    "        shadow=True)\n",
    "ax.axis('equal') \n",
    "plt.title('A fun day')\n",
    "plt.show()"
   ]
  },
  {
   "cell_type": "markdown",
   "metadata": {
    "deletable": false,
    "editable": false,
    "nbgrader": {
     "cell_type": "markdown",
     "checksum": "daa4b0633461223033e43917361d37f5",
     "grade": false,
     "grade_id": "cell-ade3b6426b1ed3ab",
     "locked": true,
     "schema_version": 3,
     "solution": false
    }
   },
   "source": [
    "## Question 6 - The Trouble with Tribbles\n",
    "\n",
    "**The Problem**\n",
    "The number of tribbles (furry animals from Star Trek) is modeled by Spock to be exponential.  Spock predicts that in a 3 day period that the tribbles will go from an initial population number of $N_0 = 1$ to $N(3) = 1,771,561$ tribbles.  The assumptions that Spock made are the following:\n",
    " - The tribbles reproduce every 12 hours.\n",
    " - Tribbles reproduce asexually so that 1 tribble will produce 10 more tribbles leading to a total of 11 tribbles.\n",
    "\n",
    "**(a)** (2) Write a function that confirms Spock's estimate"
   ]
  },
  {
   "cell_type": "code",
   "execution_count": 8,
   "metadata": {
    "deletable": false,
    "nbgrader": {
     "cell_type": "code",
     "checksum": "250009673351f7b4fa6f3f48f0a1cd92",
     "grade": false,
     "grade_id": "cell-ced77d94995c3603",
     "locked": false,
     "schema_version": 3,
     "solution": true,
     "task": false
    }
   },
   "outputs": [],
   "source": [
    "def N(t):\n",
    "    \"\"\" return the number of tribbles at time t (in days) given that 1 tribble will reproduce \n",
    "        asexually every 12 hours to produce 10 more tribbles.  N can be a real number\n",
    "    \"\"\"\n",
    "    return numpy.power(11,2*t)"
   ]
  },
  {
   "cell_type": "code",
   "execution_count": 9,
   "metadata": {
    "deletable": false,
    "editable": false,
    "nbgrader": {
     "cell_type": "code",
     "checksum": "e7eda9b8f5be58396fba8a84f8c265ad",
     "grade": true,
     "grade_id": "cell-65deef82d8b7ce70",
     "locked": true,
     "points": 2,
     "schema_version": 3,
     "solution": false,
     "task": false
    }
   },
   "outputs": [],
   "source": [
    "assert(N(3) == 1771561)"
   ]
  },
  {
   "cell_type": "markdown",
   "metadata": {
    "deletable": false,
    "editable": false,
    "nbgrader": {
     "cell_type": "markdown",
     "checksum": "e5472c893d2dab0a969c1a7d1f47cb36",
     "grade": false,
     "grade_id": "cell-96c90a8b85fc8d48",
     "locked": true,
     "schema_version": 3,
     "solution": false,
     "task": false
    }
   },
   "source": [
    "**(b)** (3) Make a plot of N(t) for t=3 days (assuming it is a continous function), using the appropriate plot types making sure to adding labels, units, and titles.  Also refer to the [matplotlib gallery](http://matplotlib.org/gallery.html) to figure out how to plot some of what is asked."
   ]
  },
  {
   "cell_type": "code",
   "execution_count": 10,
   "metadata": {
    "deletable": false,
    "nbgrader": {
     "cell_type": "code",
     "checksum": "76ec33761ac54a988e1ce8908aa620de",
     "grade": true,
     "grade_id": "cell-ced77d94995c3605",
     "locked": false,
     "points": 4,
     "schema_version": 3,
     "solution": true
    }
   },
   "outputs": [
    {
     "data": {
      "image/png": "[encoded data removed]",
      "text/plain": [
       "<Figure size 432x288 with 1 Axes>"
      ]
     },
     "metadata": {
      "needs_background": "light"
     },
     "output_type": "display_data"
    }
   ],
   "source": [
    "x = numpy.linspace(0, 3, 100)\n",
    "y = [N(t) for t in x]\n",
    "plt.plot(x,y)\n",
    "plt.title('Population of tribbles in 3 days')\n",
    "plt.ylabel('tribbles')\n",
    "plt.xlabel('time(day)')\n",
    "plt.grid(True)\n",
    "plt.show()"
   ]
  },
  {
   "cell_type": "markdown",
   "metadata": {
    "deletable": false,
    "editable": false,
    "nbgrader": {
     "cell_type": "markdown",
     "checksum": "920883a9b3fbf121fd6f04e92e1bf8a5",
     "grade": false,
     "grade_id": "cell-7564389d26c906c0",
     "locked": true,
     "schema_version": 3,
     "solution": false
    }
   },
   "source": [
    "**(c)** [5] Assuming that tribbles cannot stack themselves on top of each other perfectly we also would like to model and plot the spread of tribbles throughout our space ship.  Assume our space ship is a square use the following function to plot the population on our space ship of tribbles:\n",
    "$$\n",
    "    N(x, y) = N_0 e^{-r^2/\\sigma^2}\n",
    "$$\n",
    "where $N_0 = 1000$, $\\sigma = 0.1$ and $r$ is the distance from the middle of our space ship."
   ]
  },
  {
   "cell_type": "code",
   "execution_count": 11,
   "metadata": {
    "deletable": false,
    "nbgrader": {
     "cell_type": "code",
     "checksum": "fb6e8455cfcb141a659058fd1efd1ce5",
     "grade": true,
     "grade_id": "cell-57fc8ae3b01fafa8",
     "locked": false,
     "points": 5,
     "schema_version": 3,
     "solution": true
    }
   },
   "outputs": [
    {
     "data": {
      "image/png": "[encoded data removed]",
      "text/plain": [
       "<Figure size 432x288 with 2 Axes>"
      ]
     },
     "metadata": {
      "needs_background": "light"
     },
     "output_type": "display_data"
    }
   ],
   "source": [
    "\n",
    "x = numpy.linspace(0, 0.2, 1000)\n",
    "y = numpy.linspace(0, 0.2, 1000)\n",
    "X, Y = numpy.meshgrid(x, y) \n",
    "N=1000*numpy.exp(-100*(numpy.square(X)+numpy.square(Y)))\n",
    "c=plt.pcolormesh(X,Y,N) \n",
    "plt.title('Spread of tribbles throughout the ship')\n",
    "plt.ylabel('unit distance from the center')\n",
    "plt.xlabel('unit distance from the center')\n",
    "plt.colorbar(c)\n",
    "plt.show()"
   ]
  },
  {
   "cell_type": "code",
   "execution_count": null,
   "metadata": {},
   "outputs": [],
   "source": []
  }
 ],
 "metadata": {
  "kernelspec": {
   "display_name": "Python 3",
   "language": "python",
   "name": "python3"
  },
  "language_info": {
   "codemirror_mode": {
    "name": "ipython",
    "version": 3
   },
   "file_extension": ".py",
   "mimetype": "text/x-python",
   "name": "python",
   "nbconvert_exporter": "python",
   "pygments_lexer": "ipython3",
   "version": "3.8.5"
  }
 },
 "nbformat": 4,
 "nbformat_minor": 4
}
