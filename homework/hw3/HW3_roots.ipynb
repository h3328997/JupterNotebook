{
 "cells": [
  {
   "cell_type": "markdown",
   "metadata": {},
   "source": [
    "Before you turn this problem in, make sure everything runs as expected. First, **restart the kernel** (in the menubar, select Kernel$\\rightarrow$Restart) and then **run all cells** (in the menubar, select Cell$\\rightarrow$Run All).\n",
    "\n",
    "Make sure you fill in any place that says `YOUR CODE HERE` or \"YOUR ANSWER HERE\", as well as your name and collaborators below:"
   ]
  },
  {
   "cell_type": "code",
   "execution_count": 1,
   "metadata": {},
   "outputs": [],
   "source": [
    "NAME = \"Yifei Fan\"\n",
    "COLLABORATORS = \"\""
   ]
  },
  {
   "cell_type": "markdown",
   "metadata": {},
   "source": [
    "---"
   ]
  },
  {
   "cell_type": "code",
   "execution_count": 2,
   "metadata": {},
   "outputs": [],
   "source": [
    "from __future__ import print_function\n",
    "import numpy\n",
    "import matplotlib.pyplot as plt\n",
    "import warnings\n",
    "\n",
    "%matplotlib inline\n"
   ]
  },
  {
   "cell_type": "markdown",
   "metadata": {
    "deletable": false,
    "editable": false,
    "nbgrader": {
     "cell_type": "markdown",
     "checksum": "896aee8be036699e78bc884285e0b02f",
     "grade": false,
     "grade_id": "cell-7752050701682384",
     "locked": true,
     "schema_version": 3,
     "solution": false
    }
   },
   "source": [
    "# HW 3:  Root Finding and Optimization"
   ]
  },
  {
   "cell_type": "markdown",
   "metadata": {
    "deletable": false,
    "editable": false,
    "nbgrader": {
     "cell_type": "markdown",
     "checksum": "79deda1fff66c5437b0dc524ed7eb9a6",
     "grade": false,
     "grade_id": "cell-8382527651811313",
     "locked": true,
     "schema_version": 3,
     "solution": false
    }
   },
   "source": [
    "## Question 1 - Fun with Fixed Point iteration\n",
    "\n",
    "Let's say that we wanted to calculate $\\sqrt{M}$ given that $M \\in \\mathbb{R}$ and $M > 0$ and that we did not want to use the function `sqrt` directly.  Consider the function \n",
    "\n",
    "$$\n",
    "    f(x) = x^2 - M\n",
    "$$\n",
    "\n",
    "which has a positive root at at $x=\\sqrt{M}$.   Here we will try to solve this using  fixed point iteration\n",
    "\n",
    "$$\n",
    "    x_{k+1} = g(x_k)\n",
    "$$\n",
    "for several different iteration functions $g(x)$ (see below)\n",
    "\n",
    "For each function $g$:\n",
    "\n",
    "- Confirm analytically that $x=\\sqrt{M}$ is a fixed point of $g(x)$\n",
    "- Analyze the convergence behavior close to the fixed-point and determine the stability of the iterative scheme\n",
    "- Now set $M=3$  and $x_0 = 2$.  Make a nicely labeled convergence plot showing the log of the relative error as a function of iteration. How many iterations are required to reduce the relative error to machine precision (if it converges)?"
   ]
  },
  {
   "cell_type": "markdown",
   "metadata": {
    "deletable": false,
    "editable": false,
    "nbgrader": {
     "cell_type": "markdown",
     "checksum": "47d9ae565a714b67099b1500b01a4250",
     "grade": false,
     "grade_id": "cell-7408468548362671",
     "locked": true,
     "schema_version": 3,
     "solution": false
    }
   },
   "source": [
    "**(a)** [4] To help with the last part,  write a short python function to return N iterations of a fixed point iteration."
   ]
  },
  {
   "cell_type": "code",
   "execution_count": 3,
   "metadata": {
    "deletable": false,
    "nbgrader": {
     "cell_type": "code",
     "checksum": "ce6bb68ac251ae8857aeb9060c313a74",
     "grade": false,
     "grade_id": "cell-5217816963816529",
     "locked": false,
     "schema_version": 3,
     "solution": true
    }
   },
   "outputs": [],
   "source": [
    "def fixed_point(g, x0, N=5):\n",
    "    \"\"\"conduct N iterations of the fixed point iteration x_{k+1} = g(x_k)\n",
    "    \n",
    "    :Input:\n",
    "        - *g* (function) - The iteration function\n",
    "        - *x_0* (float) - Initial iterate\n",
    "        - *N* (int) - number of terms in iteration\n",
    "     \n",
    "    :Output:\n",
    "        x: numpy array (float)\n",
    "            array containing the iterations [ x0, x1, ... x_N ]\n",
    "    \"\"\"\n",
    "    x=[x0]\n",
    "    for n in range(N):\n",
    "        x.append(g(x[n]))\n",
    "        \n",
    "    return x"
   ]
  },
  {
   "cell_type": "code",
   "execution_count": 4,
   "metadata": {
    "deletable": false,
    "editable": false,
    "nbgrader": {
     "cell_type": "code",
     "checksum": "28a8e5dc391b64b8f37510159d1f3bcc",
     "grade": true,
     "grade_id": "cell-5409919424122382",
     "locked": true,
     "points": 4,
     "schema_version": 3,
     "solution": false
    }
   },
   "outputs": [
    {
     "name": "stdout",
     "output_type": "stream",
     "text": [
      "success!\n"
     ]
    }
   ],
   "source": [
    "# Testing Cell\n",
    "\n",
    "N = 5\n",
    "g = lambda x: numpy.cos(x)\n",
    "x0 = 1.\n",
    "answer = numpy.array([1., 0.54030231, 0.85755322, 0.65428979,\n",
    "                      0.79348036, 0.70136877])\n",
    "x_true = 0.7390851332153119\n",
    "\n",
    "x = fixed_point(g, x0, N )\n",
    "numpy.testing.assert_allclose(x, answer)\n",
    "x = fixed_point(g, x0, 1000)\n",
    "numpy.testing.assert_almost_equal(x[-1],x_true)\n",
    "print('success!')"
   ]
  },
  {
   "cell_type": "markdown",
   "metadata": {
    "deletable": false,
    "editable": false,
    "nbgrader": {
     "cell_type": "markdown",
     "checksum": "14b5f732f5aa0e3b5cfeac176c46d19c",
     "grade": false,
     "grade_id": "cell-2533433274902651",
     "locked": true,
     "schema_version": 3,
     "solution": false
    }
   },
   "source": [
    "**(b)** [6] analyze the problem with \n",
    "$$ g(x) = 1 + x - \\frac{x^2}{M}$$"
   ]
  },
  {
   "cell_type": "markdown",
   "metadata": {
    "deletable": false,
    "nbgrader": {
     "cell_type": "markdown",
     "checksum": "f8553ede2a496f25fd88744bab86b8fa",
     "grade": true,
     "grade_id": "cell-340019030337399",
     "locked": false,
     "points": 4,
     "schema_version": 3,
     "solution": true,
     "task": false
    }
   },
   "source": [
    "$x^*=g(x^*)=1+x^*-(x^*)^2/M$\n",
    "\n",
    "$\\sqrt{M}=1+\\sqrt{M}-1$\n",
    "\n",
    "RHS=LHS, $x=\\sqrt{M}$ is a fixed point of $g(x)$\n",
    "\n",
    "$g(x^\\ast + e_k)=x^\\ast + e_{k+1} = g(x^\\ast) + g'(x^\\ast) e_k + \\frac{g''(x^\\ast) e_k^2}{2} +  O(e_k^3)$\n",
    "\n",
    "$e_{k+1} = g'(x^*) e_k + \\frac{g''(x^*) e_k^2}{2}=(1-2/\\sqrt{m})e_k$\n",
    "\n",
    "It converges if $|1-2/\\sqrt{m}|<1$, so it is not a stable iterative scheme.\n",
    "\n",
    "20 iterations are needed to reducer the relative error to machine precision."
   ]
  },
  {
   "cell_type": "code",
   "execution_count": 5,
   "metadata": {
    "deletable": false,
    "nbgrader": {
     "cell_type": "code",
     "checksum": "743a196e7f7129d5fdeb501531d96bc2",
     "grade": true,
     "grade_id": "cell-9ea67719fcf6c873",
     "locked": false,
     "points": 2,
     "schema_version": 3,
     "solution": true,
     "task": false
    }
   },
   "outputs": [
    {
     "name": "stdout",
     "output_type": "stream",
     "text": [
      "20\n"
     ]
    },
    {
     "data": {
      "image/png": "[encoded data removed]",
      "text/plain": [
       "<Figure size 432x288 with 1 Axes>"
      ]
     },
     "metadata": {
      "needs_background": "light"
     },
     "output_type": "display_data"
    }
   ],
   "source": [
    "# Place plotting code here if needed\n",
    "\n",
    "def gb(x):\n",
    "    return 1+x-x*x/3.\n",
    "\n",
    "eps=numpy.finfo(float).eps\n",
    "\n",
    "N=range(100)\n",
    "xstar=[]\n",
    "for n in N:\n",
    "    xstar.append(fixed_point(gb, 2, n)[-1])\n",
    "    \n",
    "re=[]\n",
    "for xi in xstar:\n",
    "    if numpy.abs(xi-numpy.sqrt(3))<eps:\n",
    "        print(xstar.index(xi))\n",
    "        break\n",
    "    re.append(numpy.abs(xi-numpy.sqrt(3))/numpy.sqrt(3))\n",
    "    \n",
    "\n",
    "logre=numpy.log(re)\n",
    "plt.plot(range(len(logre)), logre, color = 'blue') \n",
    "           \n",
    "plt.title(\"Relative error the approximation\") \n",
    "plt.xlabel(\"times of iteration\") \n",
    "plt.ylabel(\"log of relative error\") \n",
    "plt.show()  "
   ]
  },
  {
   "cell_type": "markdown",
   "metadata": {
    "deletable": false,
    "editable": false,
    "nbgrader": {
     "cell_type": "markdown",
     "checksum": "631a3e4c05e43db09ece645a93dd948c",
     "grade": false,
     "grade_id": "cell-2533433274adsfadf1",
     "locked": true,
     "schema_version": 3,
     "solution": false
    }
   },
   "source": [
    " **(c)** [6] analyze the problem with \n",
    "$$ g(x) = \\frac{M}{x}$$"
   ]
  },
  {
   "cell_type": "markdown",
   "metadata": {
    "deletable": false,
    "nbgrader": {
     "cell_type": "markdown",
     "checksum": "4b9b505f2509ac5d4d21866f8f8735d0",
     "grade": true,
     "grade_id": "cell-340019030h348fqoi",
     "locked": false,
     "points": 4,
     "schema_version": 3,
     "solution": true,
     "task": false
    }
   },
   "source": [
    "$x^*=g(x^*)=M/x^*$\n",
    "\n",
    "$\\sqrt{M}=\\sqrt{M}$\n",
    "\n",
    "RHS=LHS, $x=\\sqrt{M}$ is a fixed point of $g(x)$\n",
    "\n",
    "$g(x^\\ast + e_k)=x^\\ast + e_{k+1} = g(x^\\ast) + g'(x^\\ast) e_k + \\frac{g''(x^\\ast) e_k^2}{2} +  O(e_k^3)$\n",
    "\n",
    "$e_{k+1} = g'(x^*) e_k + \\frac{g''(x^*) e_k^2}{2}=(-1)e_k$\n",
    "\n",
    "It will not converges since |-1|=1."
   ]
  },
  {
   "cell_type": "code",
   "execution_count": 6,
   "metadata": {
    "deletable": false,
    "nbgrader": {
     "cell_type": "code",
     "checksum": "564a941d39f88c7cb280a1cc912d4b05",
     "grade": true,
     "grade_id": "cell-9ea67238r9y",
     "locked": false,
     "points": 2,
     "schema_version": 3,
     "solution": true,
     "task": false
    }
   },
   "outputs": [
    {
     "data": {
      "image/png": "[encoded data removed]",
      "text/plain": [
       "<Figure size 432x288 with 1 Axes>"
      ]
     },
     "metadata": {
      "needs_background": "light"
     },
     "output_type": "display_data"
    }
   ],
   "source": [
    "# Place plotting code here if needed\n",
    "\n",
    "def gc(x):\n",
    "    return 3./x\n",
    "\n",
    "N=range(100)\n",
    "xstar=[]\n",
    "for n in N:\n",
    "    xstar.append(fixed_point(gc, 2, n)[-1])\n",
    "    \n",
    "re=[]\n",
    "for xi in xstar:\n",
    "    if numpy.abs(xi-numpy.sqrt(3))<eps:\n",
    "        print(xstar.index(xi))\n",
    "        break\n",
    "    re.append(numpy.abs(xi-numpy.sqrt(3))/numpy.sqrt(3))\n",
    "    \n",
    "\n",
    "logre=numpy.log(re)\n",
    "plt.plot(range(len(logre)), logre) \n",
    "           \n",
    "plt.title(\"Relative error the approximation\") \n",
    "plt.xlabel(\"times of iteration\") \n",
    "plt.ylabel(\"log of relative error\") \n",
    "plt.show()  "
   ]
  },
  {
   "cell_type": "markdown",
   "metadata": {
    "deletable": false,
    "editable": false,
    "nbgrader": {
     "cell_type": "markdown",
     "checksum": "521bc3485b0df7e70bafc0267d87be69",
     "grade": false,
     "grade_id": "cell-253343327982308ufu",
     "locked": true,
     "schema_version": 3,
     "solution": false
    }
   },
   "source": [
    "**(d)** [6] Newton's method\n",
    "$$ g(x) = x - \\frac{f}{f'}$$\n",
    "\n",
    "with $$ f = x^2 - M$$"
   ]
  },
  {
   "cell_type": "markdown",
   "metadata": {
    "deletable": false,
    "nbgrader": {
     "cell_type": "markdown",
     "checksum": "064fb95869cb3acd441daafd5640ee52",
     "grade": true,
     "grade_id": "cell-340019030oijq234roi",
     "locked": false,
     "points": 4,
     "schema_version": 3,
     "solution": true,
     "task": false
    }
   },
   "source": [
    "$x^*=g(x^*)=x^*-((x^*)^2-M)/2(x^*)^2$\n",
    "\n",
    "$x^*=x^*$\n",
    "\n",
    "RHS=LHS, $x=\\sqrt{M}$ is a fixed point of $g(x)$\n",
    "\n",
    "$g(x^\\ast + e_k)=x^\\ast + e_{k+1} = g(x^\\ast) + g'(x^\\ast) e_k + \\frac{g''(x^\\ast) e_k^2}{2} +  O(e_k^3)$\n",
    "\n",
    "$e_{k+1} = g'(x^*) e_k + \\frac{g''(x^*) e_k^2}{2}=\\frac{e_k^2}{2 \\sqrt{m}}$\n",
    "\n",
    "It converges if $|\\frac{1}{2\\sqrt{m}}|<1$, so it is not a stable iterative scheme.\n",
    "\n",
    "4 iterations are needed to reducer the relative error to machine precision."
   ]
  },
  {
   "cell_type": "code",
   "execution_count": 7,
   "metadata": {
    "deletable": false,
    "nbgrader": {
     "cell_type": "code",
     "checksum": "de8bb72e85c8267066928bf4faaa5e8f",
     "grade": true,
     "grade_id": "cell-9ea67719fouerouh",
     "locked": false,
     "points": 2,
     "schema_version": 3,
     "solution": true,
     "task": false
    }
   },
   "outputs": [
    {
     "name": "stdout",
     "output_type": "stream",
     "text": [
      "4\n"
     ]
    },
    {
     "data": {
      "image/png": "[encoded data removed]",
      "text/plain": [
       "<Figure size 432x288 with 1 Axes>"
      ]
     },
     "metadata": {
      "needs_background": "light"
     },
     "output_type": "display_data"
    }
   ],
   "source": [
    "# Place plotting code here if needed\n",
    "\n",
    "def gd(x):\n",
    "    return x/2+3/(x*2)\n",
    "\n",
    "\n",
    "N=range(100)\n",
    "xstar=[]\n",
    "for n in N:\n",
    "    xstar.append(fixed_point(gd, 2, n)[-1])\n",
    "    \n",
    "re=[]\n",
    "for xi in xstar:\n",
    "    if numpy.abs(xi-numpy.sqrt(3))<eps:\n",
    "        print(xstar.index(xi))\n",
    "        break\n",
    "    re.append(numpy.abs(xi-numpy.sqrt(3))/numpy.sqrt(3))\n",
    "    \n",
    "\n",
    "logre=numpy.log(re)\n",
    "plt.plot(range(len(logre)), logre, color = 'blue') \n",
    "           \n",
    "plt.title(\"Relative error the approximation\") \n",
    "plt.xlabel(\"times of iteration\") \n",
    "plt.ylabel(\"log of relative error\") \n",
    "plt.show()  "
   ]
  },
  {
   "cell_type": "markdown",
   "metadata": {
    "deletable": false,
    "editable": false,
    "nbgrader": {
     "cell_type": "markdown",
     "checksum": "268f820b9f5eab632cd649479bcb3072",
     "grade": false,
     "grade_id": "cell-5084202108adoiu923",
     "locked": true,
     "schema_version": 3,
     "solution": false
    }
   },
   "source": [
    "## Question 2 - Fun with Rootfinders and NewtSafe\n",
    "\n",
    "This problem will explore the behavior of a range of different rootfinding routines against  a more challenging rootfinding problem.  Feel free to use any or all  of the routines presented in class which have been included in an auxiliary python file `rootfinding_optimization_schemes.py`\n",
    "\n",
    "\n",
    "You need to have this file in the same directory with your homework for this notebook to import it."
   ]
  },
  {
   "cell_type": "code",
   "execution_count": 8,
   "metadata": {},
   "outputs": [
    {
     "name": "stdout",
     "output_type": "stream",
     "text": [
      "functions loaded correctly\n"
     ]
    }
   ],
   "source": [
    "#  Cell to import and test at least newton's method from class\n",
    "\n",
    "from  rootfinding_optimization_schemes import newton\n",
    "\n",
    "# set test function and its derivative\n",
    "f = lambda x: numpy.cos(x) - x\n",
    "f_prime = lambda x: -numpy.sin(x) - 1.\n",
    "\n",
    "#set initial guess and call newton\n",
    "x0 = 1.\n",
    "x, x_array = newton(f, f_prime, x0,tol=1.e-12)\n",
    "\n",
    "# run tests\n",
    "answer = 0.7390851332151606\n",
    "N = 5\n",
    "numpy.testing.assert_almost_equal(x, answer)\n",
    "numpy.testing.assert_almost_equal(N, len(x_array))\n",
    "print(\"functions loaded correctly\")"
   ]
  },
  {
   "cell_type": "markdown",
   "metadata": {
    "deletable": false,
    "editable": false,
    "nbgrader": {
     "cell_type": "markdown",
     "checksum": "a32d15febb12107bc3e15a6804e7cddd",
     "grade": false,
     "grade_id": "cell-08d7aa7aa9d9d246",
     "locked": true,
     "schema_version": 3,
     "solution": false,
     "task": false
    }
   },
   "source": [
    "Consider the function \n",
    "\n",
    "$$\n",
    "    f(x) = \\cos(x) +  N(x, A, \\alpha, \\beta))\n",
    "$$\n",
    "where\n",
    "\n",
    "$$\n",
    "    N(x, A, \\alpha, \\beta) =  A\\left[\\sin(\\alpha x) + \\sin(\\beta x)\\right]\n",
    "$$\n",
    "\n",
    "is a function that adds smooth additive \"noise\" with fixed amplitude $A = 0.05$ and varying frequencies $\\alpha$ and $\\beta$"
   ]
  },
  {
   "cell_type": "markdown",
   "metadata": {
    "deletable": false,
    "editable": false,
    "nbgrader": {
     "cell_type": "markdown",
     "checksum": "8c78c1f5acea85f0f75d23bcae09ff55",
     "grade": false,
     "grade_id": "cell-fadb86c67ee671d2",
     "locked": true,
     "schema_version": 3,
     "solution": false,
     "task": false
    }
   },
   "source": [
    "**(a)** [4] Make a nicely labeled plot to showing the behavior of this function for \n",
    "* $\\alpha = 0.$, $\\beta =0.$\n",
    "* $\\alpha = 4.$, $\\beta =5.$\n",
    "* $\\alpha = 27$, $\\beta = 50$\n",
    "\n",
    "over the domain $x\\in[-2\\pi, 2\\pi]$. Make sure you have enough points to resolve the wiggles"
   ]
  },
  {
   "cell_type": "code",
   "execution_count": 9,
   "metadata": {
    "deletable": false,
    "nbgrader": {
     "cell_type": "code",
     "checksum": "edc7c9bcc180f7f6c5e68c36a482e7ba",
     "grade": true,
     "grade_id": "cell-fadb86c67ee67848gr",
     "locked": false,
     "points": 4,
     "schema_version": 3,
     "solution": true,
     "task": false
    }
   },
   "outputs": [
    {
     "data": {
      "image/png": "[encoded data removed]",
      "text/plain": [
       "<Figure size 432x288 with 1 Axes>"
      ]
     },
     "metadata": {
      "needs_background": "light"
     },
     "output_type": "display_data"
    }
   ],
   "source": [
    "A=0.05\n",
    "x = numpy.linspace(-2*numpy.pi, 2*numpy.pi, 1000)\n",
    "a=0\n",
    "b=0\n",
    "f = lambda x, A=A, a=a, b=b: \\\n",
    "        numpy.cos(x) + A * (numpy.sin(a*x) +numpy.sin(b*x))\n",
    "\n",
    "plt.plot(x, f(x), color = 'blue',label=\"0, 0\") \n",
    "\n",
    "a=4\n",
    "b=5\n",
    "f = lambda x, A=A, a=a, b=b: \\\n",
    "        numpy.cos(x) + A * (numpy.sin(a*x) +numpy.sin(b*x))\n",
    "\n",
    "plt.plot(x, f(x), color = 'red',label=\"4, 5\") \n",
    "\n",
    "a=27\n",
    "b=50\n",
    "f = lambda x, A=A, a=a, b=b: \\\n",
    "        numpy.cos(x) + A * (numpy.sin(a*x) +numpy.sin(b*x))\n",
    "\n",
    "plt.plot(x, f(x), color = 'green',label=\"27, 50\") \n",
    "           \n",
    "plt.title(\"Behavior of the function with different alpha and beta\") \n",
    "plt.xlabel(\"x\") \n",
    "plt.ylabel(\"f(x)\") \n",
    "plt.legend(loc=\"upper left\")\n",
    "plt.show()  "
   ]
  },
  {
   "cell_type": "markdown",
   "metadata": {
    "deletable": false,
    "editable": false,
    "nbgrader": {
     "cell_type": "markdown",
     "checksum": "3b9302605aa4f4dedadf35490138eeea",
     "grade": false,
     "grade_id": "cell-cfeab33ec7437a33",
     "locked": true,
     "schema_version": 3,
     "solution": false,
     "task": false
    }
   },
   "source": [
    "**(b)** [4] Explore the behavior of the following rootfinding routines \n",
    "* bisection\n",
    "* newton\n",
    "* secant\n",
    "* brentq method using scipy.optimize.root_scalar\n",
    "* **EXTRA CREDIT** any other method used in root_scalar\n",
    "\n",
    "for finding a root of this function, given the bracket $x\\in[x_0, x_1]$ with $x_0 = 0.2$, $x_1 = 2.$ for each ($\\alpha, \\beta$) pair\n",
    "\n",
    "`params = [ (0., 0.), (4., 5.),  (27, 50.) ]`\n",
    "\n",
    "For each routine,  report\n",
    "* the root found $x^*$\n",
    "* the value of $f$ at the root $f(x^*$)\n",
    "* the number of iterations."
   ]
  },
  {
   "cell_type": "code",
   "execution_count": 10,
   "metadata": {
    "deletable": false,
    "nbgrader": {
     "cell_type": "code",
     "checksum": "e4da74b90e3a108cde24c50d129d4a41",
     "grade": true,
     "grade_id": "cell-3d03e0785ba74cee",
     "locked": false,
     "points": 4,
     "schema_version": 3,
     "solution": true,
     "task": false
    }
   },
   "outputs": [
    {
     "name": "stdout",
     "output_type": "stream",
     "text": [
      "bisection(0, 0): x*= 1.570796775817871 , f(x*)= -4.490229742968679e-07 , number of iterations = 20\n",
      "newton(0, 0): x*= 4.71238898038469 , f(x*)= -1.8369701987210297e-16 , number of iterations = 5\n",
      "secant(0, 0): x*= 1.5707963267998242 , f(x*)= -4.927552640156338e-12 , number of iterations = 6\n",
      "brentq(0, 0): x*= 1.5707963267948966 , f(x*)= 6.123233995736766e-17 , number of iterations = 7\n",
      "\n",
      "bisection(4, 5): x*= 1.6304405212402344 , f(x*)= 1.9620940002601506e-07 , number of iterations = 18\n",
      "newton(4, 5): x*= -14.096326236971352 , f(x*)= 6.931560738582254e-08 , number of iterations = 5\n",
      "secant(4, 5): x*= 1.6304406749277849 , f(x*)= 6.13728728740548e-08 , number of iterations = 7\n",
      "brentq(4, 5): x*= 1.630440744880973 , f(x*)= -2.983724378680108e-16 , number of iterations = 8\n",
      "\n",
      "bisection(27, 50): x*= 1.5567201137542725 , f(x*)= -3.49143903736332e-08 , number of iterations = 22\n",
      "newton(27, 50): x*= 1.556720103515459 , f(x*)= -3.413055948975341e-11 , number of iterations = 138\n",
      "secant(27, 50): x*= 1.5567201023472799 , f(x*)= 3.9454700583030355e-09 , number of iterations = 9\n",
      "brentq(27, 50): x*= 1.5567201035054403 , f(x*)= -3.139849491518021e-16 , number of iterations = 10 \n",
      "\n"
     ]
    }
   ],
   "source": [
    "A=0.05\n",
    "a=0\n",
    "b=0\n",
    "f = lambda x, A=A, a=a, b=b: \\\n",
    "        numpy.cos(x) + A * (numpy.sin(a*x) +numpy.sin(b*x))\n",
    "\n",
    "f_prime=lambda x, A=A, a=a, b=b: \\\n",
    "        -numpy.sin(x) + A * (a*numpy.cos(a*x) +b*numpy.cos(b*x))\n",
    "\n",
    "from  rootfinding_optimization_schemes import bisection\n",
    "from  rootfinding_optimization_schemes import secant\n",
    "from scipy.optimize import root_scalar\n",
    "\n",
    "x0=0.2\n",
    "x1=2.\n",
    "\n",
    "[xstar,history]=bisection(f,x0,x1)\n",
    "\n",
    "print(\"bisection(0, 0): x*= {} , f(x*)= {} , number of iterations = {}\" .format(xstar, f(xstar), len(history)))\n",
    "\n",
    "[xstar,history]=newton(f,f_prime,x0)\n",
    "\n",
    "print(\"newton(0, 0): x*= {} , f(x*)= {} , number of iterations = {}\" .format(xstar, f(xstar), len(history)))\n",
    "\n",
    "[xstar,history]=secant(f,x0,x1)\n",
    "\n",
    "print(\"secant(0, 0): x*= {} , f(x*)= {} , number of iterations = {}\" .format(xstar, f(xstar), len(history)))\n",
    "\n",
    "sol=root_scalar(f,  bracket=[x0, x1], method='brentq')\n",
    "\n",
    "print(\"brentq(0, 0): x*= {} , f(x*)= {} , number of iterations = {}\\n\" .format(sol.root, f(sol.root), sol.iterations))\n",
    "\n",
    "a=4.\n",
    "b=5.\n",
    "\n",
    "f = lambda x, A=A, a=a, b=b: \\\n",
    "        numpy.cos(x) + A * (numpy.sin(a*x) +numpy.sin(b*x))\n",
    "\n",
    "f_prime=lambda x, A=A, a=a, b=b: \\\n",
    "        -numpy.sin(x) + A * (a*numpy.cos(a*x) +b*numpy.cos(b*x))\n",
    "\n",
    "[xstar,history]=bisection(f,x0,x1)\n",
    "\n",
    "print(\"bisection(4, 5): x*= {} , f(x*)= {} , number of iterations = {}\" .format(xstar, f(xstar), len(history)))\n",
    "\n",
    "[xstar,history]=newton(f,f_prime,x0)\n",
    "\n",
    "print(\"newton(4, 5): x*= {} , f(x*)= {} , number of iterations = {}\" .format(xstar, f(xstar), len(history)))\n",
    "\n",
    "[xstar,history]=secant(f,x0,x1)\n",
    "\n",
    "print(\"secant(4, 5): x*= {} , f(x*)= {} , number of iterations = {}\" .format(xstar, f(xstar), len(history)))\n",
    "\n",
    "sol=root_scalar(f,  bracket=[x0, x1], method='brentq')\n",
    "\n",
    "print(\"brentq(4, 5): x*= {} , f(x*)= {} , number of iterations = {}\\n\" .format(sol.root, f(sol.root), sol.iterations))\n",
    "\n",
    "a=27\n",
    "b=50\n",
    "\n",
    "f = lambda x, A=A, a=a, b=b: \\\n",
    "        numpy.cos(x) + A * (numpy.sin(a*x) +numpy.sin(b*x))\n",
    "\n",
    "f_prime=lambda x, A=A, a=a, b=b: \\\n",
    "        -numpy.sin(x) + A * (a*numpy.cos(a*x) +b*numpy.cos(b*x))\n",
    "\n",
    "[xstar,history]=bisection(f,x0,x1)\n",
    "\n",
    "print(\"bisection(27, 50): x*= {} , f(x*)= {} , number of iterations = {}\" .format(xstar, f(xstar), len(history)))\n",
    "\n",
    "[xstar,history]=newton(f,f_prime,x0)\n",
    "\n",
    "print(\"newton(27, 50): x*= {} , f(x*)= {} , number of iterations = {}\" .format(xstar, f(xstar), len(history)))\n",
    "\n",
    "[xstar,history]=secant(f,x0,x1)\n",
    "\n",
    "print(\"secant(27, 50): x*= {} , f(x*)= {} , number of iterations = {}\" .format(xstar, f(xstar), len(history)))\n",
    "\n",
    "sol=root_scalar(f,  bracket=[x0, x1], method='brentq')\n",
    "\n",
    "print(\"brentq(27, 50): x*= {} , f(x*)= {} , number of iterations = {} \\n\" .format(sol.root, f(sol.root), sol.iterations))"
   ]
  },
  {
   "cell_type": "markdown",
   "metadata": {
    "deletable": false,
    "editable": false,
    "nbgrader": {
     "cell_type": "markdown",
     "checksum": "60affd12658a1d118a9a3ac3ade5a703",
     "grade": false,
     "grade_id": "cell-d6c0204318b16a38",
     "locked": true,
     "schema_version": 3,
     "solution": false,
     "task": false
    }
   },
   "source": [
    "**(c)** [4] Make a convergence plot showing the relative error at each step for Newton's method for the same three parameter pairs and initial guess $x_0 = 0.2$."
   ]
  },
  {
   "cell_type": "code",
   "execution_count": 11,
   "metadata": {
    "deletable": false,
    "nbgrader": {
     "cell_type": "code",
     "checksum": "712e8203de014a4d1bff6c5d3589f974",
     "grade": true,
     "grade_id": "cell-03e97ced4d02bc89",
     "locked": false,
     "points": 4,
     "schema_version": 3,
     "solution": true,
     "task": false
    }
   },
   "outputs": [
    {
     "data": {
      "image/png": "[encoded data removed]",
      "text/plain": [
       "<Figure size 432x288 with 1 Axes>"
      ]
     },
     "metadata": {
      "needs_background": "light"
     },
     "output_type": "display_data"
    }
   ],
   "source": [
    "A=0.05\n",
    "a=0\n",
    "b=0\n",
    "x0=0.2\n",
    "f = lambda x, A=A, a=a, b=b: \\\n",
    "        numpy.cos(x) + A * (numpy.sin(a*x) +numpy.sin(b*x))\n",
    "\n",
    "f_prime=lambda x, A=A, a=a, b=b: \\\n",
    "        -numpy.sin(x) + A * (a*numpy.cos(a*x) +b*numpy.cos(b*x))\n",
    "\n",
    "[xstar,history]=newton(f,f_prime,x0)\n",
    "\n",
    "n=range(len(history))\n",
    "re=[]\n",
    "for x in history:\n",
    "    re.append(numpy.abs(x-xstar)/numpy.abs(xstar))\n",
    "    \n",
    "plt.plot(n, re, color = 'blue',label=\"0, 0\") \n",
    "\n",
    "a=4.\n",
    "b=5.\n",
    "f = lambda x, A=A, a=a, b=b: \\\n",
    "        numpy.cos(x) + A * (numpy.sin(a*x) +numpy.sin(b*x))\n",
    "\n",
    "f_prime=lambda x, A=A, a=a, b=b: \\\n",
    "        -numpy.sin(x) + A * (a*numpy.cos(a*x) +b*numpy.cos(b*x))\n",
    "\n",
    "[xstar,history]=newton(f,f_prime,x0)\n",
    "\n",
    "n=range(len(history))\n",
    "re=[]\n",
    "for x in history:\n",
    "    re.append(numpy.abs(x-xstar)/numpy.abs(xstar))\n",
    "    \n",
    "plt.plot(n, re, color = 'red',label=\"4, 5\") \n",
    "\n",
    "a=27\n",
    "b=50\n",
    "f = lambda x, A=A, a=a, b=b: \\\n",
    "        numpy.cos(x) + A * (numpy.sin(a*x) +numpy.sin(b*x))\n",
    "\n",
    "f_prime=lambda x, A=A, a=a, b=b: \\\n",
    "        -numpy.sin(x) + A * (a*numpy.cos(a*x) +b*numpy.cos(b*x))\n",
    "\n",
    "[xstar,history]=newton(f,f_prime,x0)\n",
    "\n",
    "n=range(len(history))\n",
    "re=[]\n",
    "for x in history:\n",
    "    re.append(numpy.abs(x-xstar)/numpy.abs(xstar))\n",
    "    \n",
    "plt.plot(n, re, color = 'green',label=\"27, 50\") \n",
    "\n",
    "\n",
    "plt.title(\"Relative error at each step for Newtom's method\") \n",
    "plt.xlabel(\"times of iteration\") \n",
    "plt.ylabel(\"relative error\") \n",
    "plt.legend(loc=\"upper left\")\n",
    "plt.show()  "
   ]
  },
  {
   "cell_type": "markdown",
   "metadata": {
    "deletable": false,
    "editable": false,
    "nbgrader": {
     "cell_type": "markdown",
     "checksum": "2df03ce3234624a2a1c2d6b521634126",
     "grade": false,
     "grade_id": "cell-688d9772c0ee0353",
     "locked": true,
     "schema_version": 3,
     "solution": false,
     "task": false
    }
   },
   "source": [
    "**(d)** [4] Briefly explain your results so far for all the methods.  Feel free to play with other initial parameters or to make additional plots.  "
   ]
  },
  {
   "cell_type": "markdown",
   "metadata": {
    "deletable": false,
    "nbgrader": {
     "cell_type": "markdown",
     "checksum": "2fd45f3d0ef415e1263944f18cb82175",
     "grade": true,
     "grade_id": "cell-0d30efbc8418cd82",
     "locked": false,
     "points": 4,
     "schema_version": 3,
     "solution": true,
     "task": false
    }
   },
   "source": [
    "Newton's method convergence the fastest in general, but it is bad when dealing with a fucntion with obvious noices. This is because noices have great impact on the behavior of f_prime so the performence of Newton's method become bad when noice get greater. Other methods are stable with different noices, but the bisection appear to be the method that needs the most iterations to get a good result. This is because bisection convergence linearly."
   ]
  },
  {
   "cell_type": "markdown",
   "metadata": {
    "deletable": false,
    "editable": false,
    "nbgrader": {
     "cell_type": "markdown",
     "checksum": "db197de596ae1a5191790bc36a15b67c",
     "grade": false,
     "grade_id": "cell-b46861a6140bb51d",
     "locked": true,
     "schema_version": 3,
     "solution": false,
     "task": false
    }
   },
   "source": [
    "**(e)** [6] Write a controlled Newton routine `NewtSafe`,  that finds a root with an initial bracket by combining newton steps with a bisection routine.  The basic algorithm is to first try Newton from the midpoint of the bracket.  If Newton predicts a solution outside of the bracket, ignore it and take a bisection step instead.  You can use and modify any of the rootfinding routines I presented in class, but write a decent docstring and raise appropriate exceptions as necessary. \n",
    "\n",
    "The routine should return the best estimate of the root and number of Newton Steps and the number of bisection steps\n",
    "\n",
    "`x, N_newt, N_bisection = newtsafe(f, f_prime, a, b)`"
   ]
  },
  {
   "cell_type": "code",
   "execution_count": 12,
   "metadata": {
    "deletable": false,
    "nbgrader": {
     "cell_type": "code",
     "checksum": "18a5e5a4d442acee0549a0f20462d3de",
     "grade": false,
     "grade_id": "cell-a20f6d1abec7c19d",
     "locked": false,
     "schema_version": 3,
     "solution": true,
     "task": false
    }
   },
   "outputs": [],
   "source": [
    "def newtsafe(f,f_prime,a,b,tol = 1.e-6, max_steps=1000):\n",
    "    \"\"\" Use NewSafe method to find a root x of the function f. \n",
    "    This method first try to find a solution using Newton's method, \n",
    "    but if predicts a solution outside the bracket, it then use bisection method to solve the problem.\n",
    "        \n",
    "    \n",
    "    Parameters:\n",
    "    -----------\n",
    "    \n",
    "    f: function (float)\n",
    "        function giving f(x)\n",
    "    f_prime:  function (float)\n",
    "        function giving derivative of f with respect to x\n",
    "    a: float\n",
    "        left bracket a < x\n",
    "    b: float\n",
    "        right bracket x < b\n",
    "        \n",
    "        Note:  the signs of f(a) and f(b) must be different to insure a bracket\n",
    "    tol: float\n",
    "        tolerance.  Returns when |f(x)| < tol\n",
    "    max_steps: int\n",
    "        maximum number of iteration steps\n",
    "        \n",
    "    Returns:\n",
    "    --------\n",
    "    x: float\n",
    "        midpoint of final bracket\n",
    "    n_newt:  number of newton steps for successful newton iteration\n",
    "    n_bisection: number of bisection steps\n",
    "        \n",
    "    Raises:\n",
    "    -------\n",
    "    ValueError:  \n",
    "        if initial bracket is invalid \n",
    "    Warning: \n",
    "        if number of iterations exceed MAX_STEPS\n",
    "    Prints warning if Newton exceeds the bracket\n",
    "    \n",
    "    \"\"\"\n",
    "    MAX_STEPS = max_steps\n",
    "    \n",
    "    x=(a+b)/2.\n",
    "    x_array = [ x0 ]\n",
    "    newton=0\n",
    "    for k in range(1, MAX_STEPS + 1):\n",
    "        x = x  - f(x) / f_prime(x)\n",
    "        if x>b or x<a:\n",
    "            warnings.warn('Newton exceeds the bracket')\n",
    "            newton=1\n",
    "            break\n",
    "        x_array.append(x)\n",
    "        if numpy.abs(f(x)) < tol:\n",
    "            break\n",
    "        \n",
    "    if k == MAX_STEPS:\n",
    "        warnings.warn('Maximum number of steps exceeded')\n",
    "    \n",
    "    if newton==1:\n",
    "        xstar,history=bisection(f,a,b,tol = tol, max_steps=max_steps)\n",
    "        return xstar, 0, len(history)\n",
    "    \n",
    "    return x, len(numpy.array(x_array)),0\n"
   ]
  },
  {
   "cell_type": "code",
   "execution_count": 13,
   "metadata": {
    "deletable": false,
    "editable": false,
    "nbgrader": {
     "cell_type": "code",
     "checksum": "a0fc4358c1096461564e6e35cea822ab",
     "grade": true,
     "grade_id": "cell-7cdbdbda9ca86f82",
     "locked": true,
     "points": 6,
     "schema_version": 3,
     "solution": false,
     "task": false
    }
   },
   "outputs": [
    {
     "name": "stdout",
     "output_type": "stream",
     "text": [
      "Bracket  = [-0.68309670780092, 2.642524050776319]\n",
      "Newton   = 1.27194847295657,    N   = 3\n",
      "NewtSafe = 1.27194847295657,    N_n = 4, N_b = 0\n",
      "brentq   = 1.2719484732512498,    N   = 9\n",
      "\n",
      "Bracket  = [-0.7104536143852529, 3.8152626763086603]\n",
      "Newton   = -23.8662065317763,    N   = 7\n",
      "NewtSafe = 1.0884993615406993,    N_n = 0, N_b = 21\n",
      "brentq   = 1.088499013515958,    N   = 13\n",
      "\n",
      "Bracket  = [-0.5236057894835726, 3.9067882124238986]\n",
      "Newton   = -10.863477689404652,    N   = 11\n",
      "NewtSafe = 1.1106136647446174,    N_n = 0, N_b = 21\n",
      "brentq   = 1.1106142646873127,    N   = 11\n",
      "\n",
      "Bracket  = [-0.5275356434135271, 2.4988039593212776]\n",
      "Newton   = 1.3248590962279085,    N   = 3\n",
      "NewtSafe = 1.3248590962279085,    N_n = 4, N_b = 0\n",
      "brentq   = 1.3248590968150393,    N   = 9\n",
      "\n",
      "Bracket  = [-0.3534683303763972, 3.9130408021252014]\n",
      "Newton   = 1.1473182519095415,    N   = 10\n",
      "NewtSafe = 1.1473185405760344,    N_n = 0, N_b = 20\n",
      "brentq   = 1.1473182519138232,    N   = 9\n",
      "\n",
      "no bracket: f(a) and f(b) must have different signs\n",
      "success!\n"
     ]
    },
    {
     "name": "stderr",
     "output_type": "stream",
     "text": [
      "<ipython-input-12-ccbd09dbec28>:49: UserWarning: Newton exceeds the bracket\n",
      "  warnings.warn('Newton exceeds the bracket')\n"
     ]
    }
   ],
   "source": [
    "# Testing Cell\n",
    "from  rootfinding_optimization_schemes import newton\n",
    "from scipy.optimize import root_scalar\n",
    "\n",
    "a = 27\n",
    "b = 50\n",
    "A = 0.3\n",
    "f = lambda x: numpy.cos(x) + A*(numpy.sin(a * x) + numpy.sin(b * x))\n",
    "f_prime = lambda x: -numpy.sin(x) + A*(a*numpy.cos(a * x) + b*numpy.cos(b * x))\n",
    "\n",
    "pi = numpy.pi\n",
    "\n",
    "brackets = [ \n",
    "            (-0.68309670780092, 2.642524050776319),\n",
    "            (-0.7104536143852529, 3.8152626763086603),\n",
    "            (-0.5236057894835726, 3.9067882124238986),\n",
    "            (-0.5275356434135271, 2.4988039593212776),\n",
    "            (-0.3534683303763972, 3.9130408021252014)\n",
    "           ]\n",
    "\n",
    "for bracket in brackets:\n",
    "    #a = numpy.random.uniform(low=-pi/4, high=pi/4)\n",
    "    #b = numpy.random.uniform(low=3*pi/4, high=5*pi/4)\n",
    "    a = bracket[0]\n",
    "    b = bracket[1]\n",
    "    x_n, x_array = newton(f, f_prime, (a + b)/2.)\n",
    "    x_ns, N_n, N_b = newtsafe(f, f_prime, a, b)\n",
    "    sol = root_scalar(f, bracket=(a, b),method='brentq')\n",
    "    print('Bracket  = [{}, {}]'.format(a, b))\n",
    "    print('Newton   = {},    N   = {}'.format(x_n, len(x_array)-1))\n",
    "    print('NewtSafe = {},    N_n = {}, N_b = {}'.format(x_ns, N_n, N_b))\n",
    "    print('brentq   = {},    N   = {}'.format(sol.root, sol.iterations))\n",
    "    print()\n",
    "    numpy.testing.assert_almost_equal(x_ns, sol.root,decimal=5)\n",
    "    \n",
    "try:\n",
    "    x_ns, N_n, N_b = newtsafe(f, f_prime, 1.6, 2.0)\n",
    "except ValueError as err:\n",
    "    print(err)\n",
    "    pass\n",
    "\n",
    "print('success!')\n"
   ]
  },
  {
   "cell_type": "markdown",
   "metadata": {
    "deletable": false,
    "editable": false,
    "nbgrader": {
     "cell_type": "markdown",
     "checksum": "6ff9cfc557769fb0e0cd3151689d9310",
     "grade": false,
     "grade_id": "cell-508420840igovo948yh23",
     "locked": true,
     "schema_version": 3,
     "solution": false
    }
   },
   "source": [
    "## Question 3 - Solve a \"real\" rootfinding problem\n",
    "\n",
    "In Homework 2, I asked you to *estimate* the number of terms in the taylor expansion of $e^x$ such that the relative error was less than $\\epsilon_{mach}$.  This was essentially a non-linear problem in the number of steps $n$.  Here we will use a rootfinder to get this number more precisely."
   ]
  },
  {
   "cell_type": "markdown",
   "metadata": {
    "deletable": false,
    "editable": false,
    "nbgrader": {
     "cell_type": "markdown",
     "checksum": "0c5da29bd8798f54998030d92df5ac1d",
     "grade": false,
     "grade_id": "cell-3f4f0535e4abc84f",
     "locked": true,
     "schema_version": 3,
     "solution": false,
     "task": false
    }
   },
   "source": [
    "**(a)** [8] provide a numerical solution for the number of terms $n$ in the Taylor polynomial expansion of exp(x) (i.e. $T_N(x))$ such that the relative error is\n",
    "\n",
    "$$\n",
    "    r = \\left| \\frac{x^{n+1}}{(n + 1)!} \\right| \\approx \\epsilon_{mach}\n",
    "$$ \n",
    "\n",
    "Give solutions for x = 0.1, 1., 10. ,100. , 709., 1000. and compare your numerical solution to the approximate solution given in last homework \n",
    "\n",
    "$$\n",
    "    n > e*x\n",
    "$$\n",
    "\n",
    "by calculating the relative error between the your numerical solution and your simpler estimate.\n",
    "\n",
    "Note: To make this problem easier, just use Stirling’s approximation $\\log(n!) \\approx n \\log n − n$. which will work quite well.  However, for a little bit of extra credit solve this for the full problem and compare solutions.\n"
   ]
  },
  {
   "cell_type": "markdown",
   "metadata": {
    "deletable": false,
    "nbgrader": {
     "cell_type": "markdown",
     "checksum": "b68b95d0b33a72562c80bc1c8831d3ac",
     "grade": true,
     "grade_id": "cell-8fc4ebbf43da6dff",
     "locked": false,
     "points": 4,
     "schema_version": 3,
     "solution": true,
     "task": false
    }
   },
   "source": [
    "Let $g(n)=\\log_x ((n+1)!) + \\log_x (\\epsilon_{mach}) - 1\\approx (n+1) log_x (n+1) + \\log_x (\\epsilon_{mach})-n-2$ be the fixed point problem, and use secant method to solve it.\n",
    "\n",
    "Since $log_x$ is not defined when x=1, $g(n)=n log(n) + log(\\epsilon_{mach})$ when x=1\n",
    "\n",
    "There are obvious errors between numerical solutions and simpler estimate. This is because the simpler estimate only guarantee the upper bound of n when n is large."
   ]
  },
  {
   "cell_type": "code",
   "execution_count": 14,
   "metadata": {
    "deletable": false,
    "nbgrader": {
     "cell_type": "code",
     "checksum": "11099c9f28135df32eed257aca68662a",
     "grade": true,
     "grade_id": "cell-963aac8426927a48",
     "locked": false,
     "points": 4,
     "schema_version": 3,
     "solution": true,
     "task": false
    }
   },
   "outputs": [
    {
     "name": "stdout",
     "output_type": "stream",
     "text": [
      "numerical solution for x = 0.1 :  6.754936700053681\n",
      "simpler estimate for x = 0.1 :  0.27182818284590454\n",
      "relative error for x = 0.1 :  0.959758589174678 \n",
      "\n",
      "numerical solution for x = 1 :  13.751206725985138\n",
      "simpler estimate for x = 1 :  2.718281828459045\n",
      "relative error for x = 1 :  0.802324124520475 \n",
      "\n",
      "numerical solution for x = 10 :  31.518335120665046\n",
      "simpler estimate for x = 10 :  27.18281828459045\n",
      "relative error for x = 10 :  0.1375553886167042 \n",
      "\n",
      "numerical solution for x = 100 :  134.10357881872463\n",
      "simpler estimate for x = 100 :  271.8281828459045\n",
      "relative error for x = 100 :  1.0270017045059625 \n",
      "\n",
      "numerical solution for x = 709 :  749.4204915453876\n",
      "simpler estimate for x = 709 :  1927.261816377463\n",
      "relative error for x = 709 :  1.5716694941223677 \n",
      "\n",
      "numerical solution for x = 1000 :  1041.0782801683188\n",
      "simpler estimate for x = 1000 :  2718.2818284590453\n",
      "relative error for x = 1000 :  1.611025395726785 \n",
      "\n"
     ]
    }
   ],
   "source": [
    "\n",
    "x=0.1\n",
    "g=lambda n: (n+1)*numpy.log(n+1) / numpy.log(x) +numpy.log(eps) / numpy.log(x)-n-2\n",
    "[nstar,history]=secant(g,1,1000)\n",
    "print(\"numerical solution for x = 0.1 : \", nstar)\n",
    "print(\"simpler estimate for x = 0.1 : \", numpy.exp(1)*x)\n",
    "print(\"relative error for x = 0.1 : \", numpy.abs(nstar-numpy.exp(1)*x)/nstar, \"\\n\")\n",
    "\n",
    "x=1.\n",
    "g=lambda n: n*numpy.log(n) +numpy.log(eps)\n",
    "[nstar,history]=secant(g,1,1000)\n",
    "print(\"numerical solution for x = 1 : \", nstar)\n",
    "print(\"simpler estimate for x = 1 : \", numpy.exp(1)*x)\n",
    "print(\"relative error for x = 1 : \", numpy.abs(nstar-numpy.exp(1)*x)/nstar, \"\\n\")\n",
    "\n",
    "x=10.\n",
    "g=lambda n: (n+1)*numpy.log(n+1) / numpy.log(x) +numpy.log(eps) / numpy.log(x)-n-2\n",
    "[nstar,history]=secant(g,1,1000)\n",
    "print(\"numerical solution for x = 10 : \", nstar)\n",
    "print(\"simpler estimate for x = 10 : \", numpy.exp(1)*x)\n",
    "print(\"relative error for x = 10 : \", numpy.abs(nstar-numpy.exp(1)*x)/nstar, \"\\n\")\n",
    "\n",
    "x=100.\n",
    "g=lambda n: (n+1)*numpy.log(n+1) / numpy.log(x) +numpy.log(eps) / numpy.log(x)-n-2\n",
    "[nstar,history]=secant(g,1,1000)\n",
    "print(\"numerical solution for x = 100 : \", nstar)\n",
    "print(\"simpler estimate for x = 100 : \", numpy.exp(1)*x)\n",
    "print(\"relative error for x = 100 : \", numpy.abs(nstar-numpy.exp(1)*x)/nstar, \"\\n\")\n",
    "\n",
    "x=709.\n",
    "g=lambda n: (n+1)*numpy.log(n+1) / numpy.log(x) +numpy.log(eps) / numpy.log(x)-n-2\n",
    "[nstar,history]=secant(g,1,1000)\n",
    "print(\"numerical solution for x = 709 : \", nstar)\n",
    "print(\"simpler estimate for x = 709 : \", numpy.exp(1)*x)\n",
    "print(\"relative error for x = 709 : \", numpy.abs(nstar-numpy.exp(1)*x)/nstar, \"\\n\")\n",
    "\n",
    "x=1000.\n",
    "g=lambda n: (n+1)*numpy.log(n+1) / numpy.log(x) +numpy.log(eps) / numpy.log(x)-n-2\n",
    "[nstar,history]=secant(g,1,1000)\n",
    "print(\"numerical solution for x = 1000 : \", nstar)\n",
    "print(\"simpler estimate for x = 1000 : \", numpy.exp(1)*x)\n",
    "print(\"relative error for x = 1000 : \", numpy.abs(nstar-numpy.exp(1)*x)/nstar, \"\\n\")\n"
   ]
  },
  {
   "cell_type": "code",
   "execution_count": null,
   "metadata": {},
   "outputs": [],
   "source": []
  }
 ],
 "metadata": {
  "kernelspec": {
   "display_name": "Python 3",
   "language": "python",
   "name": "python3"
  },
  "language_info": {
   "codemirror_mode": {
    "name": "ipython",
    "version": 3
   },
   "file_extension": ".py",
   "mimetype": "text/x-python",
   "name": "python",
   "nbconvert_exporter": "python",
   "pygments_lexer": "ipython3",
   "version": "3.8.5"
  }
 },
 "nbformat": 4,
 "nbformat_minor": 4
}
