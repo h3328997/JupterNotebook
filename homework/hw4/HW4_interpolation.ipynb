{
 "cells": [
  {
   "cell_type": "markdown",
   "metadata": {},
   "source": [
    "Before you turn this problem in, make sure everything runs as expected. First, **restart the kernel** (in the menubar, select Kernel$\\rightarrow$Restart) and then **run all cells** (in the menubar, select Cell$\\rightarrow$Run All).\n",
    "\n",
    "Make sure you fill in any place that says `YOUR CODE HERE` or \"YOUR ANSWER HERE\", as well as your name and collaborators below:"
   ]
  },
  {
   "cell_type": "code",
   "execution_count": 1,
   "metadata": {},
   "outputs": [],
   "source": [
    "NAME = \"Yifei Fan\"\n",
    "COLLABORATORS = \"\""
   ]
  },
  {
   "cell_type": "markdown",
   "metadata": {},
   "source": [
    "---"
   ]
  },
  {
   "cell_type": "code",
   "execution_count": 2,
   "metadata": {},
   "outputs": [],
   "source": [
    "%matplotlib inline\n",
    "import numpy\n",
    "import matplotlib.pyplot as plt"
   ]
  },
  {
   "cell_type": "markdown",
   "metadata": {
    "deletable": false,
    "editable": false,
    "nbgrader": {
     "cell_type": "markdown",
     "checksum": "935818b1cc5498fcab64162ff74a4e0a",
     "grade": false,
     "grade_id": "cell-6537906896021329",
     "locked": true,
     "schema_version": 3,
     "solution": false
    }
   },
   "source": [
    "Before you turn this problem in, make sure everything runs as expected. First, restart the kernel (in the menubar, select Kernel $\\rightarrow$ Restart) and then run all cells (in the menubar, select Cell $\\rightarrow$ Run All).\n",
    "\n",
    "Make sure you fill in any place that says YOUR CODE HERE or \"YOUR ANSWER HERE\", as well as your name and collaborators below:"
   ]
  },
  {
   "cell_type": "markdown",
   "metadata": {
    "deletable": false,
    "editable": false,
    "nbgrader": {
     "cell_type": "markdown",
     "checksum": "796ac0c847a6649ab075fecefaf9ad32",
     "grade": false,
     "grade_id": "cell-5502088417300118",
     "locked": true,
     "schema_version": 3,
     "solution": false
    }
   },
   "source": [
    "# HW 4:  Interpolation and applications"
   ]
  },
  {
   "cell_type": "markdown",
   "metadata": {
    "deletable": false,
    "editable": false,
    "nbgrader": {
     "cell_type": "markdown",
     "checksum": "09aa3e7992cd994495709007184999f6",
     "grade": false,
     "grade_id": "cell-82472618555790",
     "locked": true,
     "schema_version": 3,
     "solution": false
    }
   },
   "source": [
    "## Question 1\n",
    "\n",
    "Consider data at three points $(x_0, y_0) = (0, 0)$, $(x_1, y_1) = (1, 2)$, and $(x_2, y_2) = (2, 2)$."
   ]
  },
  {
   "cell_type": "markdown",
   "metadata": {
    "deletable": false,
    "editable": false,
    "nbgrader": {
     "cell_type": "markdown",
     "checksum": "8b0af663801123168dff0f87da1a15e3",
     "grade": false,
     "grade_id": "cell-8265701073131704",
     "locked": true,
     "schema_version": 3,
     "solution": false
    }
   },
   "source": [
    "**(a)** Analytically find coefficients of the interpolating  polynomial $P_2(x)$ that passes through these three points in the following bases\n",
    "1. Monomial: $P(x) = p_0 + p_1 x + p_2 x^2$\n",
    "1. Lagrange: $P(x) = \\sum^2_{k=0} y_k \\ell_k(x)$\n",
    "1. Newton: $P(x) = \\sum^2_{k=0} a_k n_k(x)$ \n",
    "\n",
    "and show that, independent of basis it's always the same polynomial.\n",
    "\n",
    "**Note:** we didn't discuss the Newton polynomial basis in class but they are \n",
    " are defined by\n",
    "\\begin{align}\n",
    "    n_0 &= 1\\\\\n",
    "    n_j(x) &= \\prod^{j-1}_{i=0} (x - x_i)\\quad\\mathrm{for}\\quad j>0 \\\\\n",
    "\\end{align}\n",
    "\n",
    "you will only need the first three\n",
    "\\begin{align}\n",
    "    n_0(x) &= 1\\\\\n",
    "    n_1(x) &= (x-x_0) \\\\\n",
    "    n_2(x) &= (x - x_0)(x-x_1)\\\\\n",
    "\\end{align}\n",
    "\n"
   ]
  },
  {
   "cell_type": "markdown",
   "metadata": {
    "deletable": false,
    "nbgrader": {
     "cell_type": "markdown",
     "checksum": "1d78e35e505af28c6f038b1a93ce639b",
     "grade": true,
     "grade_id": "cell-3823725410153810",
     "locked": false,
     "points": 12,
     "schema_version": 3,
     "solution": true
    }
   },
   "source": [
    "Monomial: $P(x)=0 + 3x-x^2$\n",
    "\n",
    "Lagrange: $P(x)=0+2(x-0)/(1-0)(x-2)/(1-2)+2(x-0)/(2-0)(x-1)/(2-1)=3x-x^2$\n",
    "\n",
    "Newton: $P(x)=0+4(x-0)-x(x-1)=3x-x^2$\n",
    "\n",
    "They are the same polynomial"
   ]
  },
  {
   "cell_type": "markdown",
   "metadata": {
    "deletable": false,
    "editable": false,
    "nbgrader": {
     "cell_type": "markdown",
     "checksum": "694c375d9eccbf8f76f76d44f2a43edd",
     "grade": false,
     "grade_id": "cell-3903963456629954",
     "locked": true,
     "schema_version": 3,
     "solution": false
    }
   },
   "source": [
    "**(b)** Use the uniqueness of the interpolating polynomial to show that for general $N+1$ points that for a function $f(x) = c$ with $c \\in \\mathbb R$ that\n",
    "\n",
    "$$\\sum^N_{i=0} \\ell_i(x) = 1$$\n",
    "\n",
    "holds for any value of $x$.\n"
   ]
  },
  {
   "cell_type": "markdown",
   "metadata": {
    "deletable": false,
    "nbgrader": {
     "cell_type": "markdown",
     "checksum": "a45926dd69a036c2edfd6cf82189426c",
     "grade": true,
     "grade_id": "cell-5902170639545808",
     "locked": false,
     "points": 4,
     "schema_version": 3,
     "solution": true
    }
   },
   "source": [
    "It is easy to see that the $N+1$ points interpolating by monomial basis is $P(x)=c$\n",
    "\n",
    "By the uniqueness of the interpolating polynomial, $P(x)=\\sum^N_{i=0} y_i \\ell_i(x)=c$\n",
    "\n",
    "$y_i=c$ for all i, that is $\\sum^N_{i=0} \\ell_i(x) = 1$"
   ]
  },
  {
   "cell_type": "markdown",
   "metadata": {
    "deletable": false,
    "editable": false,
    "nbgrader": {
     "cell_type": "markdown",
     "checksum": "ac4c96d7d73e5fc2bed61803c1dfe1b6",
     "grade": false,
     "grade_id": "cell-6806070912155660",
     "locked": true,
     "schema_version": 3,
     "solution": false
    }
   },
   "source": [
    "## Question 2: Fun with Chebyshev Polynomials"
   ]
  },
  {
   "cell_type": "markdown",
   "metadata": {
    "deletable": false,
    "editable": false,
    "nbgrader": {
     "cell_type": "markdown",
     "checksum": "f72bd1c93b2a6e2539d2a9ee13696778",
     "grade": false,
     "grade_id": "cell-8344454aa3c6cd29",
     "locked": true,
     "schema_version": 3,
     "solution": false,
     "task": false
    }
   },
   "source": [
    "**(a)** The $n$th Chebyshev polynomial is characterized (up to a constant) by the identity\n",
    "\n",
    "$$T_n(\\cos \\theta) = \\cos (n \\theta)$$\n",
    "\n",
    "Use this identity to show that the Chebyshev polynomials are orthogonal on $x\\in[-1,1]$ with respect to the weight\n",
    "\n",
    "$$\\omega(x) = \\frac{1}{\\sqrt{1 - x^2}}$$\n",
    "\n",
    "To do this you must prove that\n",
    "\n",
    "$$\\int^1_{-1} \\omega(x) T_n(x) T_m(x) dx = \\left \\{ \\begin{aligned} \n",
    "a & ~ & m = n \\\\ \n",
    "0 & ~ & m \\neq n \n",
    "\\end{aligned} \\right .$$\n",
    "\n",
    "where $a$ is a finite constant (also find this coefficient).  Note that you may have multiple non-zero coefficients $a$.  Make sure to cover all these cases and list the conditions that you will find these values."
   ]
  },
  {
   "cell_type": "markdown",
   "metadata": {
    "deletable": false,
    "nbgrader": {
     "cell_type": "markdown",
     "checksum": "30fc92751374bb2710d4fe7648e32a75",
     "grade": true,
     "grade_id": "cell-8354694405440956",
     "locked": false,
     "points": 4,
     "schema_version": 3,
     "solution": true
    }
   },
   "source": [
    "Let $x=cos(\\theta)$, then $\\int^1_{-1} \\omega(x) T_n(x) T_m(x) dx = \\int^\\pi_{0} cos(n \\theta)cos(m \\theta)/\\sqrt{1 - cos(\\theta)^2} dcos(\\theta)=\\int^\\pi_{0} -cos(n \\theta)cos(m \\theta)d\\theta=-0.5\\int^\\pi_{0} cos(n \\theta+m\\theta)+cos(n \\theta-m\\theta) d\\theta= \\left \\{ \\begin{aligned} \n",
    "-\\pi/2 & ~ & m = n \\\\ \n",
    "0 & ~ & m \\neq n \n",
    "\\end{aligned} \\right .$"
   ]
  },
  {
   "cell_type": "markdown",
   "metadata": {
    "deletable": false,
    "editable": false,
    "nbgrader": {
     "cell_type": "markdown",
     "checksum": "3638d25b6e3d457ebd2f81ce33043fc8",
     "grade": false,
     "grade_id": "cell-87edfee5e38ec2f5",
     "locked": true,
     "schema_version": 3,
     "solution": false,
     "task": false
    }
   },
   "source": [
    "**(b)** Consider the  Gaussian \n",
    "$$ f(x) = e^{-x^2} $$ on the interval $x\\in[-3,3]$\n",
    "\n",
    "make a plot comparing the polynomial interpolant through $N=9$ points using \n",
    "* Evenly spaced points\n",
    "* The appropriate Chebyshev nodes (i.e. roots of $T_9$)\n",
    "\n",
    "Be sure to show both the interpolation points and a reasonably resolved interpolating polynomial $P_8(x)$, and label all lines and axes.\n",
    "\n",
    "You can use any of the routines from the notes or `numpy.polyfit` and `numpy.polyval`.  \n",
    "For fun, experiment with other functions (e.g. Runge's function $f(x) = 1/(1 + 25x^2)$)"
   ]
  },
  {
   "cell_type": "code",
   "execution_count": 3,
   "metadata": {
    "deletable": false,
    "nbgrader": {
     "cell_type": "code",
     "checksum": "c6e322d3d673dead69168eb85e948542",
     "grade": true,
     "grade_id": "cell-02c4fc987bf9ddca",
     "locked": false,
     "points": 6,
     "schema_version": 3,
     "solution": true,
     "task": false
    }
   },
   "outputs": [
    {
     "data": {
      "image/png": "[encoded data removed]",
      "text/plain": [
       "<Figure size 576x432 with 1 Axes>"
      ]
     },
     "metadata": {
      "needs_background": "light"
     },
     "output_type": "display_data"
    }
   ],
   "source": [
    "#evenly spaced\n",
    "N1=numpy.linspace(-3,3,9)\n",
    "#Chebyshev\n",
    "N2=3*numpy.cos((2.0 * numpy.arange(1, 9 + 1) - 1.0) / (2.0 * 9) * numpy.pi)\n",
    "\n",
    "y1=numpy.exp(-numpy.square(N1))\n",
    "y2=numpy.exp(-numpy.square(N2))\n",
    "\n",
    "p81=numpy.polyfit(N1,y1,8)\n",
    "p82=numpy.polyfit(N2,y2,8)\n",
    "\n",
    "fig = plt.figure(figsize=(8, 6))\n",
    "axes = fig.add_subplot(1, 1, 1)\n",
    "x=numpy.linspace(-3,3,100)\n",
    "axes.plot(x, numpy.polyval(p81,x), label=\"evenly spaced interpolating\" )\n",
    "axes.plot(x, numpy.polyval(p82,x), label=\"Chebyshev interpolating\" )\n",
    "axes.plot(N1, y1, 'ro', label=\"evenly spaced data\")\n",
    "axes.plot(N2, y2, 'ko', label=\"Chebyshev data\")\n",
    "\n",
    "axes.set_title(\"Evenly spaced vs Chebyshev\")\n",
    "axes.set_xlabel(\"x\")\n",
    "axes.set_ylabel(\"$f(x)$\")\n",
    "axes.grid()\n",
    "axes.legend(loc='best')\n",
    "plt.show()"
   ]
  },
  {
   "cell_type": "markdown",
   "metadata": {
    "deletable": false,
    "editable": false,
    "nbgrader": {
     "cell_type": "markdown",
     "checksum": "1101a6c951ecb688a9da3fb9f845dd8d",
     "grade": false,
     "grade_id": "cell-963631730bd282f4",
     "locked": true,
     "schema_version": 3,
     "solution": false,
     "task": false
    }
   },
   "source": [
    "**(c)** define the relative error as\n",
    "        \n",
    "$$\n",
    " r = \\frac{||f(x) - P_N(x)||}{||f(x)||}\n",
    "$$\n",
    "\n",
    "where $||\\cdot||$ is an appropriate norm (length) of a vector, in python you can calculate this by\n",
    "\n",
    "```python\n",
    "x = numpy.linspace(x_min, x_max)\n",
    "P_N = numpy.polyval(p, x)\n",
    "\n",
    "err = f(x) - P_N(x)\n",
    "r = numpy.linalg.norm(err)/numpy.linalg.norm(f(x))\n",
    "```\n",
    "\n",
    "* Make a well labeled plot showing log(r) vs number of grid points $N$ for $N\\in[5,30]$ \n",
    "* Comment briefly on your results. Some questions to consider are:\n",
    "    *  does $P_N(x)\\rightarrow f(x)$ as $N\\rightarrow\\infty$?\n",
    "    *  Is one interpolant more accurate than the other?\n",
    "    * Anything else you notice"
   ]
  },
  {
   "cell_type": "code",
   "execution_count": 4,
   "metadata": {
    "deletable": false,
    "nbgrader": {
     "cell_type": "code",
     "checksum": "b501a285d15a7fef6e0dbb6a2fca307e",
     "grade": true,
     "grade_id": "cell-3a61e29e4740bd7d",
     "locked": false,
     "points": 4,
     "schema_version": 3,
     "solution": true,
     "task": false
    }
   },
   "outputs": [
    {
     "data": {
      "image/png": "[encoded data removed]",
      "text/plain": [
       "<Figure size 576x432 with 1 Axes>"
      ]
     },
     "metadata": {
      "needs_background": "light"
     },
     "output_type": "display_data"
    }
   ],
   "source": [
    "logr1=[]\n",
    "logr2=[]\n",
    "for n in range(5,31):\n",
    "    #evenly spaced\n",
    "    N1=numpy.linspace(-3,3,n)\n",
    "    #Chebyshev\n",
    "    N2=3*numpy.cos((2.0 * numpy.arange(1, n + 1) - 1.0) / (2.0 * n) * numpy.pi)\n",
    "    \n",
    "    y1=numpy.exp(-numpy.square(N1))\n",
    "    y2=numpy.exp(-numpy.square(N2))\n",
    "    \n",
    "    pn1=numpy.polyfit(N1,y1,n-1)\n",
    "    pn2=numpy.polyfit(N2,y2,n-1)\n",
    "    \n",
    "    x = numpy.linspace(-3, 3)\n",
    "    P_N1 = numpy.polyval(pn1, x)\n",
    "    err1 = numpy.exp(-numpy.square(x)) - P_N1\n",
    "    r1 = numpy.linalg.norm(err1)/numpy.linalg.norm(numpy.exp(-numpy.square(x)))\n",
    "    logr1.append(numpy.log(r1))\n",
    "    \n",
    "    P_N2 = numpy.polyval(pn2, x)\n",
    "    err2 = numpy.exp(-numpy.square(x)) - P_N2\n",
    "    r2 = numpy.linalg.norm(err2)/numpy.linalg.norm(numpy.exp(-numpy.square(x)))\n",
    "    logr2.append(numpy.log(r2))\n",
    "    \n",
    "x=numpy.linspace(5,30,26)\n",
    "\n",
    "fig = plt.figure(figsize=(8, 6))\n",
    "axes = fig.add_subplot(1, 1, 1)\n",
    "axes.plot(x, logr1, label=\"evenly spaced\" )\n",
    "axes.plot(x, logr2, label=\"Chebyshev\" )\n",
    "\n",
    "axes.set_title(\"Relative error of N grid points\")\n",
    "axes.set_xlabel(\"$N$\")\n",
    "axes.set_ylabel(\"$log(r)$\")\n",
    "axes.grid()\n",
    "axes.legend(loc='best')\n",
    "plt.show()\n",
    "    "
   ]
  },
  {
   "cell_type": "markdown",
   "metadata": {
    "deletable": false,
    "nbgrader": {
     "cell_type": "markdown",
     "checksum": "e3b7bad1b549b90f5d44416f05d4d9c0",
     "grade": true,
     "grade_id": "cell-9bd361f6e06eb56c",
     "locked": false,
     "points": 2,
     "schema_version": 3,
     "solution": true,
     "task": false
    }
   },
   "source": [
    "Error decreases as N increases for both sampling method, while Chebyshev decreases faster.\n",
    "The interpolating will be the original function as $N\\rightarrow\\infty$. \n",
    "In this example interpolating by Chebyshev is more accurate than that by evenly spaced data points."
   ]
  },
  {
   "cell_type": "markdown",
   "metadata": {
    "deletable": false,
    "editable": false,
    "nbgrader": {
     "cell_type": "markdown",
     "checksum": "27b49713fe8cae4dff40225f79ad92df",
     "grade": false,
     "grade_id": "cell-3224734890563854",
     "locked": true,
     "schema_version": 3,
     "solution": false
    }
   },
   "source": [
    "## Question 3\n",
    "\n",
    "We can often reformulate finite difference approximations as matrix-vector products.   \n",
    "\n",
    "Here we will construct a matrix   $D$  such that multiplying a vector of $\\mathbf{y}$ values would lead to a second order approximation of the First derivative for the given data. \n",
    "\n",
    "In other words, defining the two vectors   $\\mathbf{x}=[x_0, x_1,\\ldots,x_N]^T$ and $\\mathbf{y}=[y_0, y_1,\\ldots,y_N]^T$  such that\n",
    "\n",
    "$$\\mathbf{y} = f(\\mathbf{x})$$\n",
    "\n",
    "for some scalar function $f$,  find a matrix $D$ such that \n",
    "\n",
    "$$\n",
    "f'(\\mathbf{x}) \\approx D\\mathbf{y}\n",
    "$$"
   ]
  },
  {
   "cell_type": "markdown",
   "metadata": {
    "deletable": false,
    "editable": false,
    "nbgrader": {
     "cell_type": "markdown",
     "checksum": "5a3b33f583f1e78ee81adde20fb8fc8c",
     "grade": false,
     "grade_id": "cell-5c735e9080300d72",
     "locked": true,
     "schema_version": 3,
     "solution": false
    }
   },
   "source": [
    "**(a)** [12] Derive the forward, centered and  backward second order finite difference approximations to the first derivative using the method of your choice.\n",
    "\n",
    "I.e. given 3 equispaced points $x_i, x_{i+1}, x_{i+2}$  calculate the consistent 2nd order, *1st derivative* operator evaluated at each point.  \n",
    "\n",
    "* hint 1:  consider the interpolating polynomial $P_2(x)$ through those 3 points and calculate $P'_2(x)$ at each point.\n",
    "* hint 2:  the method of undetermined coefficients on Taylor's series can be useful here as well\n",
    "\n",
    "**Extra Credit**: Find the consistent 2nd order *2nd derivative* evaluated at each point"
   ]
  },
  {
   "cell_type": "markdown",
   "metadata": {
    "deletable": false,
    "nbgrader": {
     "cell_type": "markdown",
     "checksum": "d6f2af349c4ea7bc256f877fb09a11ef",
     "grade": true,
     "grade_id": "cell-88d2d6f7dba4237d",
     "locked": false,
     "points": 12,
     "schema_version": 3,
     "solution": true
    }
   },
   "source": [
    "Let $h$ be the distance between equispaced points $x_i, x_{i+1}, x_{i+2}$\n",
    "$$\n",
    "P_2(x) = y_i\\frac{(x-x_{i+1})(x-x_{i+2})}{(x_i-x_{i+1})(x_i-x_{i+2})} + y_{i+1}\\frac{(x-x_i)(x-x_{i+2})}{(x_{i+1}-x_i)(x_{i+1}-x_{i+2})} + y_{i+2}\\frac{(x-x_i)(x-x_{i+1})}{(x_{i+2}-x_i)(x_{i+2}-x_{i+1})}\n",
    "$$\n",
    "\n",
    "$$\n",
    "P_2'(x) = y_i\\frac{(x-x_{i+1})+(x-x_{i+2})}{(x_i-x_{i+1})(x_i-x_{i+2})} + y_{i+1}\\frac{(x-x_i)+(x-x_{i+2})}{(x_{i+1}-x_i)(x_{i+1}-x_{i+2})} + y_{i+2}\\frac{(x-x_i)+(x-x_{i+1})}{(x_{i+2}-x_i)(x_{i+2}-x_{i+1})}=y_i\\frac{(x-x_{i+1})+(x-x_{i+2})}{2h^2} - y_{i+1}\\frac{(x-x_i)+(x-x_{i+2})}{h^2} + y_{i+2}\\frac{(x-x_i)+(x-x_{i+1})}{2h^2}\n",
    "$$\n",
    "\n",
    "Forward: $P_2'(x_i)=\\frac{-3y_i}{2h} + \\frac{2y_{i+1}}{h} + \\frac{-y_{i+2}}{2h}$, centered: $P_2'(x_{i+1})=\\frac{-y_i}{2h} + \\frac{y_{i+2}}{2h}$ , Backward: $P_2'(x_{i+2})=\\frac{y_i}{2h} - \\frac{2y_{i+1}}{h} + \\frac{3y_{i+2}}{2h}$\n",
    "\n",
    "$$P_2''(x)=\\frac{2y_i}{2h^2} - \\frac{2y_{i+1}}{h^2} + \\frac{2y_{i+2}}{2h^2}$$\n"
   ]
  },
  {
   "cell_type": "markdown",
   "metadata": {
    "deletable": false,
    "editable": false,
    "nbgrader": {
     "cell_type": "markdown",
     "checksum": "5b4d3625936b76ee346bf8290df0a272",
     "grade": false,
     "grade_id": "cell-7885120873385504",
     "locked": true,
     "schema_version": 3,
     "solution": false
    }
   },
   "source": [
    "**(b)** [4] Now consider an equispaced set of points  $y_i = f(x_i)$.  Can you describe the structure of a consistent 2nd order, first derivative matrix $D$,  such that \n",
    "\n",
    "$$\n",
    "    f'(\\mathbf{x}) \\approx D\\mathbf{y}\n",
    "$$\n",
    "\n",
    "returns the consistent 1st derivative at every point (including the end points)"
   ]
  },
  {
   "cell_type": "markdown",
   "metadata": {
    "deletable": false,
    "nbgrader": {
     "cell_type": "markdown",
     "checksum": "615db92a0cea0a438f8d1bcb1b304b11",
     "grade": true,
     "grade_id": "cell-2125755949784286",
     "locked": false,
     "points": 4,
     "schema_version": 3,
     "solution": true
    }
   },
   "source": [
    "$D$ is a N by N tridiagonal matrix with exceptions on the first and the last row. The first row is -3/2 2 -1/2 with all following N-3 entries to be zeros. The tridiagonal is -1/2 0 1/2. The last row is 1/2 -2, 3/2 to be the last 3 entries and the rest to be zeros."
   ]
  },
  {
   "cell_type": "markdown",
   "metadata": {
    "deletable": false,
    "editable": false,
    "nbgrader": {
     "cell_type": "markdown",
     "checksum": "81a305f8a973d9be62256992de1c1149",
     "grade": false,
     "grade_id": "cell-8815784455777695",
     "locked": true,
     "schema_version": 3,
     "solution": false
    }
   },
   "source": [
    "**(c)** [4] Using the function `fdcoeffV.py` described in class (and included with this homework), write a python function that takes in a numpy array of coordinates $x$ (not necessarily evenly spaced)  and returns a matrix $D$ that calculates the consistent 2nd-order 1st derivatives at each point using 3 nearest neighbors (be careful at the edges)\n",
    "\n",
    "Given this matrix $D$, it is easy to test it for various functions and meshes"
   ]
  },
  {
   "cell_type": "code",
   "execution_count": 5,
   "metadata": {
    "deletable": false,
    "nbgrader": {
     "cell_type": "code",
     "checksum": "0ccb77beb9410271354dbf3a474cb335",
     "grade": false,
     "grade_id": "cell-5516025382221234",
     "locked": false,
     "schema_version": 3,
     "solution": true
    }
   },
   "outputs": [],
   "source": [
    "from  fdcoeffV import fdcoeffV\n",
    "\n",
    "def D1(x):\n",
    "    \"\"\"\n",
    "    Write a good doc-string\n",
    "    \n",
    "    x: ndarray of coordinates\n",
    "    D: ndarray\n",
    "        Matrix (2-D ndarray ) to calculate consistent 2nd order first derivative\n",
    "    \"\"\"\n",
    "    D=[]\n",
    "    for i in range(len(x)):\n",
    "        if i==0:\n",
    "            D.append(numpy.zeros(len(x)))\n",
    "            D[0,:3]=fdcoeffV(1,x[i],x[:3])\n",
    "            continue\n",
    "        if i==len(x):\n",
    "            D.append(numpy.zeros(len(x)))\n",
    "            D[i,-3:]=fdcoeffV(1,x[i],x[-3:])\n",
    "            break\n",
    "        D.append(numpy.zeros(len(x)))\n",
    "        D[i,i-1:i+1]=fdcoeffV(1,x[i],x[i-1:i+1])\n",
    "        \n",
    "    print(D)\n",
    "    return D\n",
    "    \n"
   ]
  },
  {
   "cell_type": "code",
   "execution_count": 6,
   "metadata": {
    "deletable": false,
    "editable": false,
    "nbgrader": {
     "cell_type": "code",
     "checksum": "728edeeac8ee580c8b5451714396ff74",
     "grade": true,
     "grade_id": "cell-7511846809958937",
     "locked": true,
     "points": 4,
     "schema_version": 3,
     "solution": false
    }
   },
   "outputs": [
    {
     "name": "stdout",
     "output_type": "stream",
     "text": [
      "Uniform mesh: "
     ]
    },
    {
     "ename": "TypeError",
     "evalue": "list indices must be integers or slices, not tuple",
     "output_type": "error",
     "traceback": [
      "\u001b[0;31m---------------------------------------------------------------------------\u001b[0m",
      "\u001b[0;31mTypeError\u001b[0m                                 Traceback (most recent call last)",
      "\u001b[0;32m<ipython-input-6-24eb86b1c7aa>\u001b[0m in \u001b[0;36m<module>\u001b[0;34m\u001b[0m\n\u001b[1;32m      9\u001b[0m \u001b[0;34m\u001b[0m\u001b[0m\n\u001b[1;32m     10\u001b[0m \u001b[0mprint\u001b[0m\u001b[0;34m(\u001b[0m\u001b[0;34m\"Uniform mesh: \"\u001b[0m\u001b[0;34m,\u001b[0m\u001b[0mend\u001b[0m\u001b[0;34m=\u001b[0m\u001b[0;34m''\u001b[0m\u001b[0;34m)\u001b[0m\u001b[0;34m\u001b[0m\u001b[0;34m\u001b[0m\u001b[0m\n\u001b[0;32m---> 11\u001b[0;31m \u001b[0mnumpy\u001b[0m\u001b[0;34m.\u001b[0m\u001b[0mtesting\u001b[0m\u001b[0;34m.\u001b[0m\u001b[0massert_allclose\u001b[0m\u001b[0;34m(\u001b[0m\u001b[0mnumpy\u001b[0m\u001b[0;34m.\u001b[0m\u001b[0mdot\u001b[0m\u001b[0;34m(\u001b[0m\u001b[0mD1\u001b[0m\u001b[0;34m(\u001b[0m\u001b[0mx\u001b[0m\u001b[0;34m)\u001b[0m\u001b[0;34m,\u001b[0m \u001b[0my\u001b[0m\u001b[0;34m(\u001b[0m\u001b[0mx\u001b[0m\u001b[0;34m)\u001b[0m\u001b[0;34m)\u001b[0m\u001b[0;34m,\u001b[0m \u001b[0my_prime\u001b[0m\u001b[0;34m(\u001b[0m\u001b[0mx\u001b[0m\u001b[0;34m)\u001b[0m\u001b[0;34m,\u001b[0m \u001b[0mrtol\u001b[0m\u001b[0;34m=\u001b[0m\u001b[0;36m1e-2\u001b[0m\u001b[0;34m)\u001b[0m\u001b[0;34m\u001b[0m\u001b[0;34m\u001b[0m\u001b[0m\n\u001b[0m\u001b[1;32m     12\u001b[0m \u001b[0mprint\u001b[0m\u001b[0;34m(\u001b[0m\u001b[0;34m\"Success!\"\u001b[0m\u001b[0;34m)\u001b[0m\u001b[0;34m\u001b[0m\u001b[0;34m\u001b[0m\u001b[0m\n\u001b[1;32m     13\u001b[0m \u001b[0;34m\u001b[0m\u001b[0m\n",
      "\u001b[0;32m<ipython-input-5-96b0945a9668>\u001b[0m in \u001b[0;36mD1\u001b[0;34m(x)\u001b[0m\n\u001b[1;32m     13\u001b[0m         \u001b[0;32mif\u001b[0m \u001b[0mi\u001b[0m\u001b[0;34m==\u001b[0m\u001b[0;36m0\u001b[0m\u001b[0;34m:\u001b[0m\u001b[0;34m\u001b[0m\u001b[0;34m\u001b[0m\u001b[0m\n\u001b[1;32m     14\u001b[0m             \u001b[0mD\u001b[0m\u001b[0;34m.\u001b[0m\u001b[0mappend\u001b[0m\u001b[0;34m(\u001b[0m\u001b[0mnumpy\u001b[0m\u001b[0;34m.\u001b[0m\u001b[0mzeros\u001b[0m\u001b[0;34m(\u001b[0m\u001b[0mlen\u001b[0m\u001b[0;34m(\u001b[0m\u001b[0mx\u001b[0m\u001b[0;34m)\u001b[0m\u001b[0;34m)\u001b[0m\u001b[0;34m)\u001b[0m\u001b[0;34m\u001b[0m\u001b[0;34m\u001b[0m\u001b[0m\n\u001b[0;32m---> 15\u001b[0;31m             \u001b[0mD\u001b[0m\u001b[0;34m[\u001b[0m\u001b[0;36m0\u001b[0m\u001b[0;34m,\u001b[0m\u001b[0;34m:\u001b[0m\u001b[0;36m3\u001b[0m\u001b[0;34m]\u001b[0m\u001b[0;34m=\u001b[0m\u001b[0mfdcoeffV\u001b[0m\u001b[0;34m(\u001b[0m\u001b[0;36m1\u001b[0m\u001b[0;34m,\u001b[0m\u001b[0mx\u001b[0m\u001b[0;34m[\u001b[0m\u001b[0mi\u001b[0m\u001b[0;34m]\u001b[0m\u001b[0;34m,\u001b[0m\u001b[0mx\u001b[0m\u001b[0;34m[\u001b[0m\u001b[0;34m:\u001b[0m\u001b[0;36m3\u001b[0m\u001b[0;34m]\u001b[0m\u001b[0;34m)\u001b[0m\u001b[0;34m\u001b[0m\u001b[0;34m\u001b[0m\u001b[0m\n\u001b[0m\u001b[1;32m     16\u001b[0m             \u001b[0;32mcontinue\u001b[0m\u001b[0;34m\u001b[0m\u001b[0;34m\u001b[0m\u001b[0m\n\u001b[1;32m     17\u001b[0m         \u001b[0;32mif\u001b[0m \u001b[0mi\u001b[0m\u001b[0;34m==\u001b[0m\u001b[0mlen\u001b[0m\u001b[0;34m(\u001b[0m\u001b[0mx\u001b[0m\u001b[0;34m)\u001b[0m\u001b[0;34m:\u001b[0m\u001b[0;34m\u001b[0m\u001b[0;34m\u001b[0m\u001b[0m\n",
      "\u001b[0;31mTypeError\u001b[0m: list indices must be integers or slices, not tuple"
     ]
    }
   ],
   "source": [
    "# Let's test this using f(x) = sin(pi*x) on a uniform mesh\n",
    "N = 200\n",
    "x = numpy.linspace(-1, 1, N)\n",
    "dx = x[1]-x[0]\n",
    "\n",
    "pi = numpy.pi\n",
    "y = lambda x: numpy.sin(pi*x)\n",
    "y_prime = lambda x: pi*numpy.cos(pi*x)\n",
    "\n",
    "print(\"Uniform mesh: \",end='')\n",
    "numpy.testing.assert_allclose(numpy.dot(D1(x), y(x)), y_prime(x), rtol=1e-2)\n",
    "print(\"Success!\")\n",
    "\n",
    "# test on a randomized mesh\n",
    "x_rand = x + dx/3.*numpy.random.rand(N)\n",
    "print(\"Random mesh: \",end ='')\n",
    "numpy.testing.assert_allclose(numpy.dot(D1(x_rand), y(x_rand)), y_prime(x_rand), rtol=1e-2)\n",
    "print(\"Success!\")\n",
    "\n"
   ]
  },
  {
   "cell_type": "markdown",
   "metadata": {
    "deletable": false,
    "editable": false,
    "nbgrader": {
     "cell_type": "markdown",
     "checksum": "ae07a197d06352ba440c9a21e07f055a",
     "grade": false,
     "grade_id": "cell-894a7ec04fd0689b",
     "locked": true,
     "schema_version": 3,
     "solution": false,
     "task": false
    }
   },
   "source": [
    "**(d)** [6] make a beautiful convergence plot showing how the relative error in your finite element approximation\n",
    "\n",
    "$$ r = \\frac{||f'(\\mathbf{x}) - D\\mathbf{y}||}{||f'(\\mathbf{x})||}$$\n",
    "\n",
    " scales with mesh spacing $\\Delta x$ for $f(x) = \\sin(\\pi x)$ on the interval $x\\in[-1,1]$.  What is the expected rate of convergence?  Compare with the best fit straight line (in log space) to your error estimates."
   ]
  },
  {
   "cell_type": "code",
   "execution_count": null,
   "metadata": {
    "deletable": false,
    "nbgrader": {
     "cell_type": "code",
     "checksum": "4500eb4ea647bfe57d5b35b583a5e97c",
     "grade": true,
     "grade_id": "cell-2dac3533cd822755",
     "locked": false,
     "points": 4,
     "schema_version": 3,
     "solution": true,
     "task": false
    }
   },
   "outputs": [],
   "source": []
  },
  {
   "cell_type": "markdown",
   "metadata": {
    "deletable": false,
    "nbgrader": {
     "cell_type": "markdown",
     "checksum": "26e78697e343f6e8a397e33cb9f745f8",
     "grade": true,
     "grade_id": "cell-cdbaae508b97aeab",
     "locked": false,
     "points": 2,
     "schema_version": 3,
     "solution": true,
     "task": false
    }
   },
   "source": [
    "Expected rate of convergence should be N square"
   ]
  },
  {
   "cell_type": "markdown",
   "metadata": {
    "deletable": false,
    "editable": false,
    "nbgrader": {
     "cell_type": "markdown",
     "checksum": "71695abb08cc03b3423e733ae2b932fa",
     "grade": false,
     "grade_id": "cell-1283048126092389",
     "locked": true,
     "schema_version": 3,
     "solution": false
    }
   },
   "source": [
    "**(e)** [4] Suppose we knew the *first derivative* of a function $f(x)$ at a discrete set of points and wanted to solve for the discrete function itself.  i.e.  ideally given $D$ and vector $\\mathbf{y} = f'(\\mathbf{x})$,  we would like to be able to solve the linear algebra problem\n",
    "\n",
    "$$\n",
    "    D\\mathbf{f} = \\mathbf{y}\n",
    "$$\n",
    "\n",
    "for $\\mathbf{f}\\approx f(\\bf{x})$.  Discuss any issues we might have with this approach."
   ]
  },
  {
   "cell_type": "markdown",
   "metadata": {
    "deletable": false,
    "nbgrader": {
     "cell_type": "markdown",
     "checksum": "4796062ad226b5075c548c9202ba07fe",
     "grade": true,
     "grade_id": "cell-3816704844311840",
     "locked": false,
     "points": 4,
     "schema_version": 3,
     "solution": true
    }
   },
   "source": [
    "To have a good approximation of f we need a big enough N. As D is a N by N matrix, the calculation could be expensive."
   ]
  },
  {
   "cell_type": "markdown",
   "metadata": {
    "deletable": false,
    "editable": false,
    "nbgrader": {
     "cell_type": "markdown",
     "checksum": "113f2bd75e0bd25f0c0cf347901538be",
     "grade": false,
     "grade_id": "cell-76bb9dd43f54e78f",
     "locked": true,
     "schema_version": 3,
     "solution": false,
     "task": false
    }
   },
   "source": [
    "**(f)** **Extra Credit:**  Write a more general function (and a set of tests) to return a matrix approximating the consistent $n$th order  $k$th derivative $D_k(x,k,n)$\n"
   ]
  }
 ],
 "metadata": {
  "kernelspec": {
   "display_name": "Python 3",
   "language": "python",
   "name": "python3"
  },
  "language_info": {
   "codemirror_mode": {
    "name": "ipython",
    "version": 3
   },
   "file_extension": ".py",
   "mimetype": "text/x-python",
   "name": "python",
   "nbconvert_exporter": "python",
   "pygments_lexer": "ipython3",
   "version": "3.8.5"
  },
  "latex_envs": {
   "bibliofile": "biblio.bib",
   "cite_by": "apalike",
   "current_citInitial": 1,
   "eqLabelWithNumbers": true,
   "eqNumInitial": 0
  }
 },
 "nbformat": 4,
 "nbformat_minor": 4
}
